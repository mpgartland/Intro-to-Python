{
 "cells": [
  {
   "cell_type": "markdown",
   "metadata": {},
   "source": [
    "# 2-0 IPython and the IPython Notebook"
   ]
  },
  {
   "cell_type": "markdown",
   "metadata": {},
   "source": [
    "Alright now that I’ve introduced the course, I wanted to introduce you the tools that we'll be using.\n",
    "\n",
    "Throughout this course I'm going to be using an IPython notebook. The IPython notebook is a part of the anaconda distribution that I recommended before."
   ]
  },
  {
   "cell_type": "markdown",
   "metadata": {},
   "source": [
    "IPython is an interactive computing interface for python that adds some extremely helpful tools to python. Let’s go ahead and get started with that.\n",
    "\n",
    "We start the IPython Notebook from the command like by just typing in `ipython notebook`. It has a lower level interface, IPython, but I won't be covering that in this course."
   ]
  },
  {
   "cell_type": "markdown",
   "metadata": {},
   "source": [
    "The IPython Notebook adds lots of helper commands, adds tab completion, general developer happiness tools to python."
   ]
  },
  {
   "cell_type": "markdown",
   "metadata": {},
   "source": [
    "An IPython notebook is made up of cells. There are various kinds of cells that I can set up from this top menu. Simply there are code cells that can be executed and text cells that can be styled.\n",
    "\n",
    "Let's start with a simple command in this first cell."
   ]
  },
  {
   "cell_type": "code",
   "execution_count": 1,
   "metadata": {
    "collapsed": false
   },
   "outputs": [],
   "source": [
    "from __future__ import print_function # python 3 support from python 2"
   ]
  },
  {
   "cell_type": "code",
   "execution_count": 2,
   "metadata": {
    "collapsed": false
   },
   "outputs": [
    {
     "name": "stdout",
     "output_type": "stream",
     "text": [
      "Hello IPython\n"
     ]
    }
   ],
   "source": [
    "print(\"Hello IPython\")"
   ]
  },
  {
   "cell_type": "markdown",
   "metadata": {},
   "source": [
    "You'll see that we can see the output of any command that we execute in thse cells. Now cells all share the same global environment. So if we set a variable in one, we can print it out in another."
   ]
  },
  {
   "cell_type": "code",
   "execution_count": 3,
   "metadata": {
    "collapsed": false
   },
   "outputs": [],
   "source": [
    "x = 5"
   ]
  },
  {
   "cell_type": "code",
   "execution_count": 4,
   "metadata": {
    "collapsed": false
   },
   "outputs": [
    {
     "name": "stdout",
     "output_type": "stream",
     "text": [
      "5\n"
     ]
    }
   ],
   "source": [
    "print(x)"
   ]
  },
  {
   "cell_type": "markdown",
   "metadata": {},
   "source": [
    "We can also define functions in cells and access those in others. (use tab completion)"
   ]
  },
  {
   "cell_type": "code",
   "execution_count": 5,
   "metadata": {
    "collapsed": false
   },
   "outputs": [],
   "source": [
    "def square(input_var):\n",
    "    return input_var * input_var"
   ]
  },
  {
   "cell_type": "markdown",
   "metadata": {},
   "source": [
    "you also saw right there that I can use tab completion to complete those variables. That's another handy thing about the IPython notebook. Tab completion."
   ]
  },
  {
   "cell_type": "markdown",
   "metadata": {},
   "source": [
    "We can also get access to certain shell commands like \"ls\" to list everything in the current directory."
   ]
  },
  {
   "cell_type": "code",
   "execution_count": 6,
   "metadata": {
    "collapsed": false
   },
   "outputs": [
    {
     "data": {
      "text/plain": [
       "25"
      ]
     },
     "execution_count": 6,
     "metadata": {},
     "output_type": "execute_result"
    }
   ],
   "source": [
    "square(x)"
   ]
  },
  {
   "cell_type": "code",
   "execution_count": 7,
   "metadata": {
    "collapsed": false
   },
   "outputs": [
    {
     "name": "stdout",
     "output_type": "stream",
     "text": [
      "2-0 The IPython Notebook.ipynb              2-1 Raw Python - Maps.ipynb                 2-2 Raw Python - Filters.ipynb              2-3 Raw Python - List Comprehensions.ipynb  2-4 Raw Python - Lambda Functions.ipynb\r\n"
     ]
    }
   ],
   "source": [
    "ls"
   ]
  },
  {
   "cell_type": "markdown",
   "metadata": {},
   "source": [
    "We also get access to some \"magic commands\". These commands are baked into IPython and provide us some really, really helpful ways of writing code without having to google things all the time.\n",
    "\n",
    "For example, quickref"
   ]
  },
  {
   "cell_type": "code",
   "execution_count": 8,
   "metadata": {
    "collapsed": false
   },
   "outputs": [],
   "source": [
    "%quickref"
   ]
  },
  {
   "cell_type": "markdown",
   "metadata": {},
   "source": [
    "Quickref brings up the quickreference for IPython, we can see all the commands that are made available to us.\n",
    "\n",
    "Some of my favorites are the ? and %timeit\n",
    "\n",
    "Here's a demonstration of the ? helper. Say I've imported a module, let's say datetime and I forgot the order of arguments when creating a new one."
   ]
  },
  {
   "cell_type": "code",
   "execution_count": 9,
   "metadata": {
    "collapsed": false
   },
   "outputs": [],
   "source": [
    "from datetime import datetime"
   ]
  },
  {
   "cell_type": "code",
   "execution_count": 10,
   "metadata": {
    "collapsed": false
   },
   "outputs": [],
   "source": [
    "?datetime"
   ]
  },
  {
   "cell_type": "markdown",
   "metadata": {},
   "source": [
    "All I have to do is put a question mark either before or after it and it will bring up the documentation for that specific module or function."
   ]
  },
  {
   "cell_type": "code",
   "execution_count": 11,
   "metadata": {
    "collapsed": false
   },
   "outputs": [],
   "source": [
    "datetime?"
   ]
  },
  {
   "cell_type": "code",
   "execution_count": 12,
   "metadata": {
    "collapsed": false
   },
   "outputs": [],
   "source": [
    "?square"
   ]
  },
  {
   "cell_type": "markdown",
   "metadata": {},
   "source": [
    "This is super handy and something you'll be seeing through out this course because I use it a lot when I'm working in IPython notebooks.  Timeit is also useful because it allows for easy profiling."
   ]
  },
  {
   "cell_type": "code",
   "execution_count": 13,
   "metadata": {
    "collapsed": false
   },
   "outputs": [
    {
     "name": "stdout",
     "output_type": "stream",
     "text": [
      "The slowest run took 14.49 times longer than the fastest. This could mean that an intermediate result is being cached \n",
      "1000000 loops, best of 3: 168 ns per loop\n"
     ]
    }
   ],
   "source": [
    "%timeit square(x)"
   ]
  },
  {
   "cell_type": "markdown",
   "metadata": {},
   "source": [
    "Now I will warn you, I’ve used IPython Notebooks and while they are great for rapid prototyping and sharing your scientific code or analysis they're not so great for writing production systems.\n",
    "\n",
    "However the notebook interface allows you to save a .py file so that you may build on your basic prototype into a production system. There's a lot of functionality built in to the IPython notebook and you could make a whole course on it. Please feel free to ask questions on the message boards and I'll be sure to answer them as quickly as I can.\n",
    "\n",
    "Now that I’ve introduced the basics of this tool we can start diving into the material."
   ]
  }
 ],
 "metadata": {
  "kernelspec": {
   "display_name": "Python 3",
   "language": "python",
   "name": "python3"
  },
  "language_info": {
   "codemirror_mode": {
    "name": "ipython",
    "version": 3
   },
   "file_extension": ".py",
   "mimetype": "text/x-python",
   "name": "python",
   "nbconvert_exporter": "python",
   "pygments_lexer": "ipython3",
   "version": "3.3.2"
  }
 },
 "nbformat": 4,
 "nbformat_minor": 0
}
