{
 "cells": [
  {
   "cell_type": "code",
   "execution_count": 2,
   "metadata": {
    "collapsed": false
   },
   "outputs": [
    {
     "name": "stdout",
     "output_type": "stream",
     "text": [
      "2.7.11 |Anaconda 2.4.1 (x86_64)| (default, Dec  6 2015, 18:57:58) \n",
      "[GCC 4.2.1 (Apple Inc. build 5577)]\n",
      "1.10.2\n",
      "0.17.1\n"
     ]
    }
   ],
   "source": [
    "%matplotlib inline\n",
    "import sys\n",
    "print(sys.version)\n",
    "import numpy as np\n",
    "print(np.__version__)\n",
    "import pandas as pd\n",
    "print(pd.__version__)\n",
    "import matplotlib.pyplot as plt"
   ]
  },
  {
   "cell_type": "markdown",
   "metadata": {},
   "source": [
    "Alright in this section we're going to continue with the running data set but we're going to dive a bit deeper into ways of analyzing the data including filtering, dropping rows, doing some groupings and that sort of thing."
   ]
  },
  {
   "cell_type": "markdown",
   "metadata": {},
   "source": [
    "So what we'll do is read in our csv file."
   ]
  },
  {
   "cell_type": "code",
   "execution_count": 4,
   "metadata": {
    "collapsed": false
   },
   "outputs": [
    {
     "data": {
      "text/plain": [
       "[1, 2, 3, 4, 5, 6]"
      ]
     },
     "execution_count": 4,
     "metadata": {},
     "output_type": "execute_result"
    }
   ],
   "source": [
    "list(range(1,7))"
   ]
  },
  {
   "cell_type": "code",
   "execution_count": 7,
   "metadata": {
    "collapsed": false
   },
   "outputs": [],
   "source": [
    "df = pd.read_csv('data/date_fixed_running_data_with_time.csv', parse_dates=['Date'], usecols=list(range(0,6)))"
   ]
  },
  {
   "cell_type": "code",
   "execution_count": 8,
   "metadata": {
    "collapsed": false
   },
   "outputs": [
    {
     "data": {
      "text/plain": [
       "Date            datetime64[ns]\n",
       "Miles                  float64\n",
       "Time                    object\n",
       "Seconds                float64\n",
       "Minutes                float64\n",
       "Min_per_mile           float64\n",
       "dtype: object"
      ]
     },
     "execution_count": 8,
     "metadata": {},
     "output_type": "execute_result"
    }
   ],
   "source": [
    "df.dtypes"
   ]
  },
  {
   "cell_type": "code",
   "execution_count": 9,
   "metadata": {
    "collapsed": false
   },
   "outputs": [
    {
     "name": "stderr",
     "output_type": "stream",
     "text": [
      "/Users/mylesgartland/anaconda/lib/python2.7/site-packages/ipykernel/__main__.py:1: FutureWarning: sort(....) is deprecated, use sort_index(.....)\n",
      "  if __name__ == '__main__':\n"
     ]
    },
    {
     "data": {
      "text/html": [
       "<div>\n",
       "<table border=\"1\" class=\"dataframe\">\n",
       "  <thead>\n",
       "    <tr style=\"text-align: right;\">\n",
       "      <th></th>\n",
       "      <th>Date</th>\n",
       "      <th>Miles</th>\n",
       "      <th>Time</th>\n",
       "      <th>Seconds</th>\n",
       "      <th>Minutes</th>\n",
       "      <th>Min_per_mile</th>\n",
       "    </tr>\n",
       "  </thead>\n",
       "  <tbody>\n",
       "    <tr>\n",
       "      <th>0</th>\n",
       "      <td>2014-08-02</td>\n",
       "      <td>1.70</td>\n",
       "      <td>NaN</td>\n",
       "      <td>NaN</td>\n",
       "      <td>NaN</td>\n",
       "      <td>NaN</td>\n",
       "    </tr>\n",
       "    <tr>\n",
       "      <th>1</th>\n",
       "      <td>2014-08-03</td>\n",
       "      <td>1.40</td>\n",
       "      <td>NaN</td>\n",
       "      <td>NaN</td>\n",
       "      <td>NaN</td>\n",
       "      <td>NaN</td>\n",
       "    </tr>\n",
       "    <tr>\n",
       "      <th>2</th>\n",
       "      <td>2014-08-04</td>\n",
       "      <td>2.10</td>\n",
       "      <td>NaN</td>\n",
       "      <td>NaN</td>\n",
       "      <td>NaN</td>\n",
       "      <td>NaN</td>\n",
       "    </tr>\n",
       "    <tr>\n",
       "      <th>3</th>\n",
       "      <td>2014-08-05</td>\n",
       "      <td>0.00</td>\n",
       "      <td>NaN</td>\n",
       "      <td>NaN</td>\n",
       "      <td>NaN</td>\n",
       "      <td>NaN</td>\n",
       "    </tr>\n",
       "    <tr>\n",
       "      <th>4</th>\n",
       "      <td>2014-08-06</td>\n",
       "      <td>2.38</td>\n",
       "      <td>NaN</td>\n",
       "      <td>NaN</td>\n",
       "      <td>NaN</td>\n",
       "      <td>NaN</td>\n",
       "    </tr>\n",
       "  </tbody>\n",
       "</table>\n",
       "</div>"
      ],
      "text/plain": [
       "        Date  Miles Time  Seconds  Minutes  Min_per_mile\n",
       "0 2014-08-02   1.70  NaN      NaN      NaN           NaN\n",
       "1 2014-08-03   1.40  NaN      NaN      NaN           NaN\n",
       "2 2014-08-04   2.10  NaN      NaN      NaN           NaN\n",
       "3 2014-08-05   0.00  NaN      NaN      NaN           NaN\n",
       "4 2014-08-06   2.38  NaN      NaN      NaN           NaN"
      ]
     },
     "execution_count": 9,
     "metadata": {},
     "output_type": "execute_result"
    }
   ],
   "source": [
    "df.sort(inplace=True)\n",
    "df.head()"
   ]
  },
  {
   "cell_type": "markdown",
   "metadata": {},
   "source": [
    "Now let's about getting some summary statistics. I would encourage you to try these on your own. We've learned pretty much everything we need to in order to be able to do these on without guidance and as always if you need clarification just ask on the side.\n",
    "\n",
    "What was the longest run in miles and minutes that I ran?"
   ]
  },
  {
   "cell_type": "code",
   "execution_count": 10,
   "metadata": {
    "collapsed": false
   },
   "outputs": [
    {
     "data": {
      "text/plain": [
       "260.71666666666664"
      ]
     },
     "execution_count": 10,
     "metadata": {},
     "output_type": "execute_result"
    }
   ],
   "source": [
    "df.Minutes.max()"
   ]
  },
  {
   "cell_type": "code",
   "execution_count": 11,
   "metadata": {
    "collapsed": false
   },
   "outputs": [
    {
     "data": {
      "text/plain": [
       "26.199999999999999"
      ]
     },
     "execution_count": 11,
     "metadata": {},
     "output_type": "execute_result"
    }
   ],
   "source": [
    "df.Miles.max()"
   ]
  },
  {
   "cell_type": "markdown",
   "metadata": {},
   "source": [
    "What about the shortest in miles and minutes that I ran?"
   ]
  },
  {
   "cell_type": "code",
   "execution_count": 12,
   "metadata": {
    "collapsed": false
   },
   "outputs": [
    {
     "data": {
      "text/plain": [
       "6.2666666666666675"
      ]
     },
     "execution_count": 12,
     "metadata": {},
     "output_type": "execute_result"
    }
   ],
   "source": [
    "df.Minutes.min()"
   ]
  },
  {
   "cell_type": "code",
   "execution_count": 13,
   "metadata": {
    "collapsed": false
   },
   "outputs": [
    {
     "data": {
      "text/plain": [
       "0.0"
      ]
     },
     "execution_count": 13,
     "metadata": {},
     "output_type": "execute_result"
    }
   ],
   "source": [
    "df.Miles.min()"
   ]
  },
  {
   "cell_type": "markdown",
   "metadata": {},
   "source": [
    "We forgot to ignore our null values, so how would we do it by ignoring those?"
   ]
  },
  {
   "cell_type": "code",
   "execution_count": 14,
   "metadata": {
    "collapsed": false
   },
   "outputs": [
    {
     "data": {
      "text/plain": [
       "0.65000000000000002"
      ]
     },
     "execution_count": 14,
     "metadata": {},
     "output_type": "execute_result"
    }
   ],
   "source": [
    "df.Miles[df.Miles > 0].min()"
   ]
  },
  {
   "cell_type": "markdown",
   "metadata": {},
   "source": [
    "What was the most common running distance I did excluding times when I didn't run at all."
   ]
  },
  {
   "cell_type": "code",
   "execution_count": 15,
   "metadata": {
    "collapsed": false
   },
   "outputs": [
    {
     "data": {
      "text/plain": [
       "1.3700000000000001"
      ]
     },
     "execution_count": 15,
     "metadata": {},
     "output_type": "execute_result"
    }
   ],
   "source": [
    "df.Miles[df.Miles > 0].value_counts().index[0]"
   ]
  },
  {
   "cell_type": "markdown",
   "metadata": {},
   "source": [
    "Plot a graph of the cumulative running distance in this dataset."
   ]
  },
  {
   "cell_type": "code",
   "execution_count": 16,
   "metadata": {
    "collapsed": false
   },
   "outputs": [
    {
     "data": {
      "text/plain": [
       "<matplotlib.text.Text at 0x106f23b10>"
      ]
     },
     "execution_count": 16,
     "metadata": {},
     "output_type": "execute_result"
    },
    {
     "data": {
      "image/png": "[encoded data removed]",
      "text/plain": [
       "<matplotlib.figure.Figure at 0x103e06c50>"
      ]
     },
     "metadata": {},
     "output_type": "display_data"
    }
   ],
   "source": [
    "df.Miles.cumsum().plot()\n",
    "plt.xlabel(\"Day Number\")\n",
    "plt.ylabel(\"Distance\")"
   ]
  },
  {
   "cell_type": "markdown",
   "metadata": {},
   "source": [
    "Plot a graph of the cumulative running hours in this data set."
   ]
  },
  {
   "cell_type": "code",
   "execution_count": 17,
   "metadata": {
    "collapsed": false
   },
   "outputs": [
    {
     "data": {
      "text/plain": [
       "<matplotlib.axes._subplots.AxesSubplot at 0x106f3ac50>"
      ]
     },
     "execution_count": 17,
     "metadata": {},
     "output_type": "execute_result"
    },
    {
     "data": {
      "image/png": "[encoded data removed]",
      "text/plain": [
       "<matplotlib.figure.Figure at 0x106ff02d0>"
      ]
     },
     "metadata": {},
     "output_type": "display_data"
    }
   ],
   "source": [
    "(df.Minutes.fillna(0).cumsum() / 60).plot()"
   ]
  },
  {
   "cell_type": "markdown",
   "metadata": {},
   "source": [
    "Another interesting question we could ask is what days of the week do I commonly go for runs. Am I faster on certain days or does my speed improve over time relative to the distance that I'm running."
   ]
  },
  {
   "cell_type": "markdown",
   "metadata": {},
   "source": [
    "So let's get our days of the week"
   ]
  },
  {
   "cell_type": "code",
   "execution_count": 18,
   "metadata": {
    "collapsed": false
   },
   "outputs": [
    {
     "data": {
      "text/plain": [
       "'Saturday'"
      ]
     },
     "execution_count": 18,
     "metadata": {},
     "output_type": "execute_result"
    }
   ],
   "source": [
    "df.Date[0].strftime(\"%A\")"
   ]
  },
  {
   "cell_type": "markdown",
   "metadata": {},
   "source": [
    "We will do that by mapping our date column to a the time format we need"
   ]
  },
  {
   "cell_type": "code",
   "execution_count": 19,
   "metadata": {
    "collapsed": false
   },
   "outputs": [
    {
     "data": {
      "text/plain": [
       "0     Saturday\n",
       "1       Sunday\n",
       "2       Monday\n",
       "3      Tuesday\n",
       "4    Wednesday\n",
       "Name: Date, dtype: object"
      ]
     },
     "execution_count": 19,
     "metadata": {},
     "output_type": "execute_result"
    }
   ],
   "source": [
    "df.Date.map(lambda x: x.strftime(\"%A\")).head()"
   ]
  },
  {
   "cell_type": "markdown",
   "metadata": {},
   "source": [
    "then we just set that to a new column."
   ]
  },
  {
   "cell_type": "code",
   "execution_count": 20,
   "metadata": {
    "collapsed": false
   },
   "outputs": [],
   "source": [
    "df['Day_of_week'] = df.Date.map(lambda x: x.strftime(\"%A\"))"
   ]
  },
  {
   "cell_type": "code",
   "execution_count": 21,
   "metadata": {
    "collapsed": false
   },
   "outputs": [
    {
     "data": {
      "text/html": [
       "<div>\n",
       "<table border=\"1\" class=\"dataframe\">\n",
       "  <thead>\n",
       "    <tr style=\"text-align: right;\">\n",
       "      <th></th>\n",
       "      <th>Date</th>\n",
       "      <th>Miles</th>\n",
       "      <th>Time</th>\n",
       "      <th>Seconds</th>\n",
       "      <th>Minutes</th>\n",
       "      <th>Min_per_mile</th>\n",
       "      <th>Day_of_week</th>\n",
       "    </tr>\n",
       "  </thead>\n",
       "  <tbody>\n",
       "    <tr>\n",
       "      <th>0</th>\n",
       "      <td>2014-08-02</td>\n",
       "      <td>1.70</td>\n",
       "      <td>NaN</td>\n",
       "      <td>NaN</td>\n",
       "      <td>NaN</td>\n",
       "      <td>NaN</td>\n",
       "      <td>Saturday</td>\n",
       "    </tr>\n",
       "    <tr>\n",
       "      <th>1</th>\n",
       "      <td>2014-08-03</td>\n",
       "      <td>1.40</td>\n",
       "      <td>NaN</td>\n",
       "      <td>NaN</td>\n",
       "      <td>NaN</td>\n",
       "      <td>NaN</td>\n",
       "      <td>Sunday</td>\n",
       "    </tr>\n",
       "    <tr>\n",
       "      <th>2</th>\n",
       "      <td>2014-08-04</td>\n",
       "      <td>2.10</td>\n",
       "      <td>NaN</td>\n",
       "      <td>NaN</td>\n",
       "      <td>NaN</td>\n",
       "      <td>NaN</td>\n",
       "      <td>Monday</td>\n",
       "    </tr>\n",
       "    <tr>\n",
       "      <th>3</th>\n",
       "      <td>2014-08-05</td>\n",
       "      <td>0.00</td>\n",
       "      <td>NaN</td>\n",
       "      <td>NaN</td>\n",
       "      <td>NaN</td>\n",
       "      <td>NaN</td>\n",
       "      <td>Tuesday</td>\n",
       "    </tr>\n",
       "    <tr>\n",
       "      <th>4</th>\n",
       "      <td>2014-08-06</td>\n",
       "      <td>2.38</td>\n",
       "      <td>NaN</td>\n",
       "      <td>NaN</td>\n",
       "      <td>NaN</td>\n",
       "      <td>NaN</td>\n",
       "      <td>Wednesday</td>\n",
       "    </tr>\n",
       "    <tr>\n",
       "      <th>5</th>\n",
       "      <td>2014-08-07</td>\n",
       "      <td>2.30</td>\n",
       "      <td>NaN</td>\n",
       "      <td>NaN</td>\n",
       "      <td>NaN</td>\n",
       "      <td>NaN</td>\n",
       "      <td>Thursday</td>\n",
       "    </tr>\n",
       "    <tr>\n",
       "      <th>6</th>\n",
       "      <td>2014-08-08</td>\n",
       "      <td>3.40</td>\n",
       "      <td>NaN</td>\n",
       "      <td>NaN</td>\n",
       "      <td>NaN</td>\n",
       "      <td>NaN</td>\n",
       "      <td>Friday</td>\n",
       "    </tr>\n",
       "    <tr>\n",
       "      <th>7</th>\n",
       "      <td>2014-08-09</td>\n",
       "      <td>2.50</td>\n",
       "      <td>NaN</td>\n",
       "      <td>NaN</td>\n",
       "      <td>NaN</td>\n",
       "      <td>NaN</td>\n",
       "      <td>Saturday</td>\n",
       "    </tr>\n",
       "    <tr>\n",
       "      <th>8</th>\n",
       "      <td>2014-08-10</td>\n",
       "      <td>3.36</td>\n",
       "      <td>0:28:37</td>\n",
       "      <td>1717</td>\n",
       "      <td>28.616667</td>\n",
       "      <td>8.516865</td>\n",
       "      <td>Sunday</td>\n",
       "    </tr>\n",
       "    <tr>\n",
       "      <th>9</th>\n",
       "      <td>2014-08-11</td>\n",
       "      <td>1.67</td>\n",
       "      <td>0:13:07</td>\n",
       "      <td>787</td>\n",
       "      <td>13.116667</td>\n",
       "      <td>7.854291</td>\n",
       "      <td>Monday</td>\n",
       "    </tr>\n",
       "  </tbody>\n",
       "</table>\n",
       "</div>"
      ],
      "text/plain": [
       "        Date  Miles     Time  Seconds    Minutes  Min_per_mile Day_of_week\n",
       "0 2014-08-02   1.70      NaN      NaN        NaN           NaN    Saturday\n",
       "1 2014-08-03   1.40      NaN      NaN        NaN           NaN      Sunday\n",
       "2 2014-08-04   2.10      NaN      NaN        NaN           NaN      Monday\n",
       "3 2014-08-05   0.00      NaN      NaN        NaN           NaN     Tuesday\n",
       "4 2014-08-06   2.38      NaN      NaN        NaN           NaN   Wednesday\n",
       "5 2014-08-07   2.30      NaN      NaN        NaN           NaN    Thursday\n",
       "6 2014-08-08   3.40      NaN      NaN        NaN           NaN      Friday\n",
       "7 2014-08-09   2.50      NaN      NaN        NaN           NaN    Saturday\n",
       "8 2014-08-10   3.36  0:28:37     1717  28.616667      8.516865      Sunday\n",
       "9 2014-08-11   1.67  0:13:07      787  13.116667      7.854291      Monday"
      ]
     },
     "execution_count": 21,
     "metadata": {},
     "output_type": "execute_result"
    }
   ],
   "source": [
    "df.head(10)"
   ]
  },
  {
   "cell_type": "markdown",
   "metadata": {},
   "source": [
    "and we can make a bar plot of it, but let's see if we can distinguish anything unique about certain days of the week."
   ]
  },
  {
   "cell_type": "code",
   "execution_count": 22,
   "metadata": {
    "collapsed": false
   },
   "outputs": [
    {
     "data": {
      "text/plain": [
       "<matplotlib.axes._subplots.AxesSubplot at 0x106ce9810>"
      ]
     },
     "execution_count": 22,
     "metadata": {},
     "output_type": "execute_result"
    },
    {
     "data": {
      "image/png": "[encoded data removed]",
      "text/plain": [
       "<matplotlib.figure.Figure at 0x106f14b10>"
      ]
     },
     "metadata": {},
     "output_type": "display_data"
    }
   ],
   "source": [
    "df[df.Miles > 0].Day_of_week.value_counts().plot(kind='bar')"
   ]
  },
  {
   "cell_type": "markdown",
   "metadata": {},
   "source": [
    "We will do that by creating groups of data frames"
   ]
  },
  {
   "cell_type": "markdown",
   "metadata": {},
   "source": [
    "We can see that in this sample I run a lot more on the Friday Saturday and Monday. Some interesting patterns. Why don't we try looking at the means and that sort of thing.\n",
    "\n",
    "But before we get there, at this point, our data frame is getting pretty messy and I think it's worth explaining how to remove columns and add remove rows and columns."
   ]
  },
  {
   "cell_type": "markdown",
   "metadata": {},
   "source": [
    "First let's remove the Time column - seeing as we already have minutes and  seconds"
   ]
  },
  {
   "cell_type": "code",
   "execution_count": 23,
   "metadata": {
    "collapsed": false
   },
   "outputs": [],
   "source": [
    "del(df['Time'])\n"
   ]
  },
  {
   "cell_type": "markdown",
   "metadata": {},
   "source": [
    "del will delete it in place"
   ]
  },
  {
   "cell_type": "code",
   "execution_count": 24,
   "metadata": {
    "collapsed": false
   },
   "outputs": [
    {
     "data": {
      "text/html": [
       "<div>\n",
       "<table border=\"1\" class=\"dataframe\">\n",
       "  <thead>\n",
       "    <tr style=\"text-align: right;\">\n",
       "      <th></th>\n",
       "      <th>Date</th>\n",
       "      <th>Miles</th>\n",
       "      <th>Seconds</th>\n",
       "      <th>Minutes</th>\n",
       "      <th>Min_per_mile</th>\n",
       "      <th>Day_of_week</th>\n",
       "    </tr>\n",
       "  </thead>\n",
       "  <tbody>\n",
       "    <tr>\n",
       "      <th>0</th>\n",
       "      <td>2014-08-02</td>\n",
       "      <td>1.70</td>\n",
       "      <td>NaN</td>\n",
       "      <td>NaN</td>\n",
       "      <td>NaN</td>\n",
       "      <td>Saturday</td>\n",
       "    </tr>\n",
       "    <tr>\n",
       "      <th>1</th>\n",
       "      <td>2014-08-03</td>\n",
       "      <td>1.40</td>\n",
       "      <td>NaN</td>\n",
       "      <td>NaN</td>\n",
       "      <td>NaN</td>\n",
       "      <td>Sunday</td>\n",
       "    </tr>\n",
       "    <tr>\n",
       "      <th>2</th>\n",
       "      <td>2014-08-04</td>\n",
       "      <td>2.10</td>\n",
       "      <td>NaN</td>\n",
       "      <td>NaN</td>\n",
       "      <td>NaN</td>\n",
       "      <td>Monday</td>\n",
       "    </tr>\n",
       "    <tr>\n",
       "      <th>3</th>\n",
       "      <td>2014-08-05</td>\n",
       "      <td>0.00</td>\n",
       "      <td>NaN</td>\n",
       "      <td>NaN</td>\n",
       "      <td>NaN</td>\n",
       "      <td>Tuesday</td>\n",
       "    </tr>\n",
       "    <tr>\n",
       "      <th>4</th>\n",
       "      <td>2014-08-06</td>\n",
       "      <td>2.38</td>\n",
       "      <td>NaN</td>\n",
       "      <td>NaN</td>\n",
       "      <td>NaN</td>\n",
       "      <td>Wednesday</td>\n",
       "    </tr>\n",
       "  </tbody>\n",
       "</table>\n",
       "</div>"
      ],
      "text/plain": [
       "        Date  Miles  Seconds  Minutes  Min_per_mile Day_of_week\n",
       "0 2014-08-02   1.70      NaN      NaN           NaN    Saturday\n",
       "1 2014-08-03   1.40      NaN      NaN           NaN      Sunday\n",
       "2 2014-08-04   2.10      NaN      NaN           NaN      Monday\n",
       "3 2014-08-05   0.00      NaN      NaN           NaN     Tuesday\n",
       "4 2014-08-06   2.38      NaN      NaN           NaN   Wednesday"
      ]
     },
     "execution_count": 24,
     "metadata": {},
     "output_type": "execute_result"
    }
   ],
   "source": [
    "df.head()"
   ]
  },
  {
   "cell_type": "markdown",
   "metadata": {},
   "source": [
    "Finally we can use drop to drop a column. Now we have to specify the axis( we can also use this to drop rows), now this does not happen in place."
   ]
  },
  {
   "cell_type": "code",
   "execution_count": 25,
   "metadata": {
    "collapsed": false
   },
   "outputs": [
    {
     "data": {
      "text/html": [
       "<div>\n",
       "<table border=\"1\" class=\"dataframe\">\n",
       "  <thead>\n",
       "    <tr style=\"text-align: right;\">\n",
       "      <th></th>\n",
       "      <th>Date</th>\n",
       "      <th>Miles</th>\n",
       "      <th>Minutes</th>\n",
       "      <th>Min_per_mile</th>\n",
       "      <th>Day_of_week</th>\n",
       "    </tr>\n",
       "  </thead>\n",
       "  <tbody>\n",
       "    <tr>\n",
       "      <th>0</th>\n",
       "      <td>2014-08-02</td>\n",
       "      <td>1.70</td>\n",
       "      <td>NaN</td>\n",
       "      <td>NaN</td>\n",
       "      <td>Saturday</td>\n",
       "    </tr>\n",
       "    <tr>\n",
       "      <th>1</th>\n",
       "      <td>2014-08-03</td>\n",
       "      <td>1.40</td>\n",
       "      <td>NaN</td>\n",
       "      <td>NaN</td>\n",
       "      <td>Sunday</td>\n",
       "    </tr>\n",
       "    <tr>\n",
       "      <th>2</th>\n",
       "      <td>2014-08-04</td>\n",
       "      <td>2.10</td>\n",
       "      <td>NaN</td>\n",
       "      <td>NaN</td>\n",
       "      <td>Monday</td>\n",
       "    </tr>\n",
       "    <tr>\n",
       "      <th>3</th>\n",
       "      <td>2014-08-05</td>\n",
       "      <td>0.00</td>\n",
       "      <td>NaN</td>\n",
       "      <td>NaN</td>\n",
       "      <td>Tuesday</td>\n",
       "    </tr>\n",
       "    <tr>\n",
       "      <th>4</th>\n",
       "      <td>2014-08-06</td>\n",
       "      <td>2.38</td>\n",
       "      <td>NaN</td>\n",
       "      <td>NaN</td>\n",
       "      <td>Wednesday</td>\n",
       "    </tr>\n",
       "    <tr>\n",
       "      <th>5</th>\n",
       "      <td>2014-08-07</td>\n",
       "      <td>2.30</td>\n",
       "      <td>NaN</td>\n",
       "      <td>NaN</td>\n",
       "      <td>Thursday</td>\n",
       "    </tr>\n",
       "    <tr>\n",
       "      <th>6</th>\n",
       "      <td>2014-08-08</td>\n",
       "      <td>3.40</td>\n",
       "      <td>NaN</td>\n",
       "      <td>NaN</td>\n",
       "      <td>Friday</td>\n",
       "    </tr>\n",
       "    <tr>\n",
       "      <th>7</th>\n",
       "      <td>2014-08-09</td>\n",
       "      <td>2.50</td>\n",
       "      <td>NaN</td>\n",
       "      <td>NaN</td>\n",
       "      <td>Saturday</td>\n",
       "    </tr>\n",
       "    <tr>\n",
       "      <th>8</th>\n",
       "      <td>2014-08-10</td>\n",
       "      <td>3.36</td>\n",
       "      <td>28.616667</td>\n",
       "      <td>8.516865</td>\n",
       "      <td>Sunday</td>\n",
       "    </tr>\n",
       "    <tr>\n",
       "      <th>9</th>\n",
       "      <td>2014-08-11</td>\n",
       "      <td>1.67</td>\n",
       "      <td>13.116667</td>\n",
       "      <td>7.854291</td>\n",
       "      <td>Monday</td>\n",
       "    </tr>\n",
       "    <tr>\n",
       "      <th>10</th>\n",
       "      <td>2014-08-12</td>\n",
       "      <td>1.42</td>\n",
       "      <td>10.583333</td>\n",
       "      <td>7.453052</td>\n",
       "      <td>Tuesday</td>\n",
       "    </tr>\n",
       "    <tr>\n",
       "      <th>11</th>\n",
       "      <td>2014-08-13</td>\n",
       "      <td>2.35</td>\n",
       "      <td>17.416667</td>\n",
       "      <td>7.411348</td>\n",
       "      <td>Wednesday</td>\n",
       "    </tr>\n",
       "    <tr>\n",
       "      <th>12</th>\n",
       "      <td>2014-08-14</td>\n",
       "      <td>0.90</td>\n",
       "      <td>6.266667</td>\n",
       "      <td>6.962963</td>\n",
       "      <td>Thursday</td>\n",
       "    </tr>\n",
       "    <tr>\n",
       "      <th>13</th>\n",
       "      <td>2014-08-14</td>\n",
       "      <td>0.90</td>\n",
       "      <td>6.266667</td>\n",
       "      <td>6.962963</td>\n",
       "      <td>Thursday</td>\n",
       "    </tr>\n",
       "    <tr>\n",
       "      <th>14</th>\n",
       "      <td>2014-08-15</td>\n",
       "      <td>1.78</td>\n",
       "      <td>NaN</td>\n",
       "      <td>NaN</td>\n",
       "      <td>Friday</td>\n",
       "    </tr>\n",
       "    <tr>\n",
       "      <th>15</th>\n",
       "      <td>2014-08-16</td>\n",
       "      <td>0.65</td>\n",
       "      <td>NaN</td>\n",
       "      <td>NaN</td>\n",
       "      <td>Saturday</td>\n",
       "    </tr>\n",
       "    <tr>\n",
       "      <th>16</th>\n",
       "      <td>2014-08-17</td>\n",
       "      <td>1.34</td>\n",
       "      <td>NaN</td>\n",
       "      <td>NaN</td>\n",
       "      <td>Sunday</td>\n",
       "    </tr>\n",
       "    <tr>\n",
       "      <th>17</th>\n",
       "      <td>2014-08-18</td>\n",
       "      <td>0.65</td>\n",
       "      <td>NaN</td>\n",
       "      <td>NaN</td>\n",
       "      <td>Monday</td>\n",
       "    </tr>\n",
       "    <tr>\n",
       "      <th>18</th>\n",
       "      <td>2014-08-19</td>\n",
       "      <td>1.37</td>\n",
       "      <td>NaN</td>\n",
       "      <td>NaN</td>\n",
       "      <td>Tuesday</td>\n",
       "    </tr>\n",
       "    <tr>\n",
       "      <th>19</th>\n",
       "      <td>2014-08-19</td>\n",
       "      <td>1.37</td>\n",
       "      <td>NaN</td>\n",
       "      <td>NaN</td>\n",
       "      <td>Tuesday</td>\n",
       "    </tr>\n",
       "    <tr>\n",
       "      <th>20</th>\n",
       "      <td>2014-08-20</td>\n",
       "      <td>1.37</td>\n",
       "      <td>9.550000</td>\n",
       "      <td>6.970803</td>\n",
       "      <td>Wednesday</td>\n",
       "    </tr>\n",
       "    <tr>\n",
       "      <th>21</th>\n",
       "      <td>2014-08-21</td>\n",
       "      <td>1.37</td>\n",
       "      <td>9.400000</td>\n",
       "      <td>6.861314</td>\n",
       "      <td>Thursday</td>\n",
       "    </tr>\n",
       "    <tr>\n",
       "      <th>22</th>\n",
       "      <td>2014-08-22</td>\n",
       "      <td>1.37</td>\n",
       "      <td>9.083333</td>\n",
       "      <td>6.630170</td>\n",
       "      <td>Friday</td>\n",
       "    </tr>\n",
       "    <tr>\n",
       "      <th>23</th>\n",
       "      <td>2014-08-23</td>\n",
       "      <td>1.34</td>\n",
       "      <td>NaN</td>\n",
       "      <td>NaN</td>\n",
       "      <td>Saturday</td>\n",
       "    </tr>\n",
       "    <tr>\n",
       "      <th>24</th>\n",
       "      <td>2014-08-24</td>\n",
       "      <td>3.00</td>\n",
       "      <td>NaN</td>\n",
       "      <td>NaN</td>\n",
       "      <td>Sunday</td>\n",
       "    </tr>\n",
       "    <tr>\n",
       "      <th>25</th>\n",
       "      <td>2014-08-25</td>\n",
       "      <td>1.37</td>\n",
       "      <td>8.916667</td>\n",
       "      <td>6.508516</td>\n",
       "      <td>Monday</td>\n",
       "    </tr>\n",
       "    <tr>\n",
       "      <th>26</th>\n",
       "      <td>2014-08-25</td>\n",
       "      <td>1.34</td>\n",
       "      <td>NaN</td>\n",
       "      <td>NaN</td>\n",
       "      <td>Monday</td>\n",
       "    </tr>\n",
       "    <tr>\n",
       "      <th>27</th>\n",
       "      <td>2014-08-26</td>\n",
       "      <td>1.37</td>\n",
       "      <td>10.500000</td>\n",
       "      <td>7.664234</td>\n",
       "      <td>Tuesday</td>\n",
       "    </tr>\n",
       "    <tr>\n",
       "      <th>28</th>\n",
       "      <td>2014-08-27</td>\n",
       "      <td>2.50</td>\n",
       "      <td>25.000000</td>\n",
       "      <td>10.000000</td>\n",
       "      <td>Wednesday</td>\n",
       "    </tr>\n",
       "    <tr>\n",
       "      <th>29</th>\n",
       "      <td>2014-08-28</td>\n",
       "      <td>0.00</td>\n",
       "      <td>NaN</td>\n",
       "      <td>NaN</td>\n",
       "      <td>Thursday</td>\n",
       "    </tr>\n",
       "    <tr>\n",
       "      <th>...</th>\n",
       "      <td>...</td>\n",
       "      <td>...</td>\n",
       "      <td>...</td>\n",
       "      <td>...</td>\n",
       "      <td>...</td>\n",
       "    </tr>\n",
       "    <tr>\n",
       "      <th>136</th>\n",
       "      <td>2014-12-04</td>\n",
       "      <td>0.00</td>\n",
       "      <td>NaN</td>\n",
       "      <td>NaN</td>\n",
       "      <td>Thursday</td>\n",
       "    </tr>\n",
       "    <tr>\n",
       "      <th>137</th>\n",
       "      <td>2014-12-05</td>\n",
       "      <td>0.00</td>\n",
       "      <td>NaN</td>\n",
       "      <td>NaN</td>\n",
       "      <td>Friday</td>\n",
       "    </tr>\n",
       "    <tr>\n",
       "      <th>138</th>\n",
       "      <td>2014-12-06</td>\n",
       "      <td>0.00</td>\n",
       "      <td>NaN</td>\n",
       "      <td>NaN</td>\n",
       "      <td>Saturday</td>\n",
       "    </tr>\n",
       "    <tr>\n",
       "      <th>139</th>\n",
       "      <td>2014-12-07</td>\n",
       "      <td>0.00</td>\n",
       "      <td>NaN</td>\n",
       "      <td>NaN</td>\n",
       "      <td>Sunday</td>\n",
       "    </tr>\n",
       "    <tr>\n",
       "      <th>140</th>\n",
       "      <td>2014-12-08</td>\n",
       "      <td>0.00</td>\n",
       "      <td>NaN</td>\n",
       "      <td>NaN</td>\n",
       "      <td>Monday</td>\n",
       "    </tr>\n",
       "    <tr>\n",
       "      <th>141</th>\n",
       "      <td>2014-12-09</td>\n",
       "      <td>2.93</td>\n",
       "      <td>25.000000</td>\n",
       "      <td>8.532423</td>\n",
       "      <td>Tuesday</td>\n",
       "    </tr>\n",
       "    <tr>\n",
       "      <th>142</th>\n",
       "      <td>2014-12-10</td>\n",
       "      <td>0.00</td>\n",
       "      <td>NaN</td>\n",
       "      <td>NaN</td>\n",
       "      <td>Wednesday</td>\n",
       "    </tr>\n",
       "    <tr>\n",
       "      <th>143</th>\n",
       "      <td>2014-12-11</td>\n",
       "      <td>0.00</td>\n",
       "      <td>NaN</td>\n",
       "      <td>NaN</td>\n",
       "      <td>Thursday</td>\n",
       "    </tr>\n",
       "    <tr>\n",
       "      <th>144</th>\n",
       "      <td>2014-12-12</td>\n",
       "      <td>1.37</td>\n",
       "      <td>9.250000</td>\n",
       "      <td>6.751825</td>\n",
       "      <td>Friday</td>\n",
       "    </tr>\n",
       "    <tr>\n",
       "      <th>145</th>\n",
       "      <td>2014-12-13</td>\n",
       "      <td>5.30</td>\n",
       "      <td>43.600000</td>\n",
       "      <td>8.226415</td>\n",
       "      <td>Saturday</td>\n",
       "    </tr>\n",
       "    <tr>\n",
       "      <th>146</th>\n",
       "      <td>2014-12-13</td>\n",
       "      <td>2.21</td>\n",
       "      <td>18.983333</td>\n",
       "      <td>8.589744</td>\n",
       "      <td>Saturday</td>\n",
       "    </tr>\n",
       "    <tr>\n",
       "      <th>147</th>\n",
       "      <td>2014-12-14</td>\n",
       "      <td>0.00</td>\n",
       "      <td>NaN</td>\n",
       "      <td>NaN</td>\n",
       "      <td>Sunday</td>\n",
       "    </tr>\n",
       "    <tr>\n",
       "      <th>148</th>\n",
       "      <td>2014-12-15</td>\n",
       "      <td>6.50</td>\n",
       "      <td>58.716667</td>\n",
       "      <td>9.033333</td>\n",
       "      <td>Monday</td>\n",
       "    </tr>\n",
       "    <tr>\n",
       "      <th>149</th>\n",
       "      <td>2014-12-16</td>\n",
       "      <td>0.00</td>\n",
       "      <td>NaN</td>\n",
       "      <td>NaN</td>\n",
       "      <td>Tuesday</td>\n",
       "    </tr>\n",
       "    <tr>\n",
       "      <th>150</th>\n",
       "      <td>2014-12-17</td>\n",
       "      <td>12.00</td>\n",
       "      <td>99.000000</td>\n",
       "      <td>8.250000</td>\n",
       "      <td>Wednesday</td>\n",
       "    </tr>\n",
       "    <tr>\n",
       "      <th>151</th>\n",
       "      <td>2014-12-18</td>\n",
       "      <td>0.00</td>\n",
       "      <td>NaN</td>\n",
       "      <td>NaN</td>\n",
       "      <td>Thursday</td>\n",
       "    </tr>\n",
       "    <tr>\n",
       "      <th>152</th>\n",
       "      <td>2014-12-19</td>\n",
       "      <td>3.10</td>\n",
       "      <td>26.250000</td>\n",
       "      <td>8.467742</td>\n",
       "      <td>Friday</td>\n",
       "    </tr>\n",
       "    <tr>\n",
       "      <th>153</th>\n",
       "      <td>2014-12-20</td>\n",
       "      <td>14.80</td>\n",
       "      <td>135.000000</td>\n",
       "      <td>9.121622</td>\n",
       "      <td>Saturday</td>\n",
       "    </tr>\n",
       "    <tr>\n",
       "      <th>154</th>\n",
       "      <td>2014-12-21</td>\n",
       "      <td>0.00</td>\n",
       "      <td>NaN</td>\n",
       "      <td>NaN</td>\n",
       "      <td>Sunday</td>\n",
       "    </tr>\n",
       "    <tr>\n",
       "      <th>155</th>\n",
       "      <td>2014-12-22</td>\n",
       "      <td>3.10</td>\n",
       "      <td>28.000000</td>\n",
       "      <td>9.032258</td>\n",
       "      <td>Monday</td>\n",
       "    </tr>\n",
       "    <tr>\n",
       "      <th>156</th>\n",
       "      <td>2014-12-23</td>\n",
       "      <td>5.63</td>\n",
       "      <td>51.833333</td>\n",
       "      <td>9.206631</td>\n",
       "      <td>Tuesday</td>\n",
       "    </tr>\n",
       "    <tr>\n",
       "      <th>157</th>\n",
       "      <td>2014-12-24</td>\n",
       "      <td>3.05</td>\n",
       "      <td>25.133333</td>\n",
       "      <td>8.240437</td>\n",
       "      <td>Wednesday</td>\n",
       "    </tr>\n",
       "    <tr>\n",
       "      <th>158</th>\n",
       "      <td>2014-12-25</td>\n",
       "      <td>14.80</td>\n",
       "      <td>140.000000</td>\n",
       "      <td>9.459459</td>\n",
       "      <td>Thursday</td>\n",
       "    </tr>\n",
       "    <tr>\n",
       "      <th>159</th>\n",
       "      <td>2014-12-26</td>\n",
       "      <td>5.20</td>\n",
       "      <td>NaN</td>\n",
       "      <td>NaN</td>\n",
       "      <td>Friday</td>\n",
       "    </tr>\n",
       "    <tr>\n",
       "      <th>160</th>\n",
       "      <td>2014-12-27</td>\n",
       "      <td>0.00</td>\n",
       "      <td>NaN</td>\n",
       "      <td>NaN</td>\n",
       "      <td>Saturday</td>\n",
       "    </tr>\n",
       "    <tr>\n",
       "      <th>161</th>\n",
       "      <td>2014-12-28</td>\n",
       "      <td>0.00</td>\n",
       "      <td>NaN</td>\n",
       "      <td>NaN</td>\n",
       "      <td>Sunday</td>\n",
       "    </tr>\n",
       "    <tr>\n",
       "      <th>162</th>\n",
       "      <td>2014-12-29</td>\n",
       "      <td>0.00</td>\n",
       "      <td>NaN</td>\n",
       "      <td>NaN</td>\n",
       "      <td>Monday</td>\n",
       "    </tr>\n",
       "    <tr>\n",
       "      <th>163</th>\n",
       "      <td>2014-12-30</td>\n",
       "      <td>3.15</td>\n",
       "      <td>22.166667</td>\n",
       "      <td>7.037037</td>\n",
       "      <td>Tuesday</td>\n",
       "    </tr>\n",
       "    <tr>\n",
       "      <th>164</th>\n",
       "      <td>2014-12-31</td>\n",
       "      <td>0.00</td>\n",
       "      <td>NaN</td>\n",
       "      <td>NaN</td>\n",
       "      <td>Wednesday</td>\n",
       "    </tr>\n",
       "    <tr>\n",
       "      <th>165</th>\n",
       "      <td>2015-01-01</td>\n",
       "      <td>26.20</td>\n",
       "      <td>260.716667</td>\n",
       "      <td>9.951018</td>\n",
       "      <td>Thursday</td>\n",
       "    </tr>\n",
       "  </tbody>\n",
       "</table>\n",
       "<p>166 rows × 5 columns</p>\n",
       "</div>"
      ],
      "text/plain": [
       "          Date  Miles     Minutes  Min_per_mile Day_of_week\n",
       "0   2014-08-02   1.70         NaN           NaN    Saturday\n",
       "1   2014-08-03   1.40         NaN           NaN      Sunday\n",
       "2   2014-08-04   2.10         NaN           NaN      Monday\n",
       "3   2014-08-05   0.00         NaN           NaN     Tuesday\n",
       "4   2014-08-06   2.38         NaN           NaN   Wednesday\n",
       "5   2014-08-07   2.30         NaN           NaN    Thursday\n",
       "6   2014-08-08   3.40         NaN           NaN      Friday\n",
       "7   2014-08-09   2.50         NaN           NaN    Saturday\n",
       "8   2014-08-10   3.36   28.616667      8.516865      Sunday\n",
       "9   2014-08-11   1.67   13.116667      7.854291      Monday\n",
       "10  2014-08-12   1.42   10.583333      7.453052     Tuesday\n",
       "11  2014-08-13   2.35   17.416667      7.411348   Wednesday\n",
       "12  2014-08-14   0.90    6.266667      6.962963    Thursday\n",
       "13  2014-08-14   0.90    6.266667      6.962963    Thursday\n",
       "14  2014-08-15   1.78         NaN           NaN      Friday\n",
       "15  2014-08-16   0.65         NaN           NaN    Saturday\n",
       "16  2014-08-17   1.34         NaN           NaN      Sunday\n",
       "17  2014-08-18   0.65         NaN           NaN      Monday\n",
       "18  2014-08-19   1.37         NaN           NaN     Tuesday\n",
       "19  2014-08-19   1.37         NaN           NaN     Tuesday\n",
       "20  2014-08-20   1.37    9.550000      6.970803   Wednesday\n",
       "21  2014-08-21   1.37    9.400000      6.861314    Thursday\n",
       "22  2014-08-22   1.37    9.083333      6.630170      Friday\n",
       "23  2014-08-23   1.34         NaN           NaN    Saturday\n",
       "24  2014-08-24   3.00         NaN           NaN      Sunday\n",
       "25  2014-08-25   1.37    8.916667      6.508516      Monday\n",
       "26  2014-08-25   1.34         NaN           NaN      Monday\n",
       "27  2014-08-26   1.37   10.500000      7.664234     Tuesday\n",
       "28  2014-08-27   2.50   25.000000     10.000000   Wednesday\n",
       "29  2014-08-28   0.00         NaN           NaN    Thursday\n",
       "..         ...    ...         ...           ...         ...\n",
       "136 2014-12-04   0.00         NaN           NaN    Thursday\n",
       "137 2014-12-05   0.00         NaN           NaN      Friday\n",
       "138 2014-12-06   0.00         NaN           NaN    Saturday\n",
       "139 2014-12-07   0.00         NaN           NaN      Sunday\n",
       "140 2014-12-08   0.00         NaN           NaN      Monday\n",
       "141 2014-12-09   2.93   25.000000      8.532423     Tuesday\n",
       "142 2014-12-10   0.00         NaN           NaN   Wednesday\n",
       "143 2014-12-11   0.00         NaN           NaN    Thursday\n",
       "144 2014-12-12   1.37    9.250000      6.751825      Friday\n",
       "145 2014-12-13   5.30   43.600000      8.226415    Saturday\n",
       "146 2014-12-13   2.21   18.983333      8.589744    Saturday\n",
       "147 2014-12-14   0.00         NaN           NaN      Sunday\n",
       "148 2014-12-15   6.50   58.716667      9.033333      Monday\n",
       "149 2014-12-16   0.00         NaN           NaN     Tuesday\n",
       "150 2014-12-17  12.00   99.000000      8.250000   Wednesday\n",
       "151 2014-12-18   0.00         NaN           NaN    Thursday\n",
       "152 2014-12-19   3.10   26.250000      8.467742      Friday\n",
       "153 2014-12-20  14.80  135.000000      9.121622    Saturday\n",
       "154 2014-12-21   0.00         NaN           NaN      Sunday\n",
       "155 2014-12-22   3.10   28.000000      9.032258      Monday\n",
       "156 2014-12-23   5.63   51.833333      9.206631     Tuesday\n",
       "157 2014-12-24   3.05   25.133333      8.240437   Wednesday\n",
       "158 2014-12-25  14.80  140.000000      9.459459    Thursday\n",
       "159 2014-12-26   5.20         NaN           NaN      Friday\n",
       "160 2014-12-27   0.00         NaN           NaN    Saturday\n",
       "161 2014-12-28   0.00         NaN           NaN      Sunday\n",
       "162 2014-12-29   0.00         NaN           NaN      Monday\n",
       "163 2014-12-30   3.15   22.166667      7.037037     Tuesday\n",
       "164 2014-12-31   0.00         NaN           NaN   Wednesday\n",
       "165 2015-01-01  26.20  260.716667      9.951018    Thursday\n",
       "\n",
       "[166 rows x 5 columns]"
      ]
     },
     "execution_count": 25,
     "metadata": {},
     "output_type": "execute_result"
    }
   ],
   "source": [
    "df.drop('Seconds',axis=1)"
   ]
  },
  {
   "cell_type": "markdown",
   "metadata": {},
   "source": [
    "we can also use drop to drop a specific row by specifying the 0 axis"
   ]
  },
  {
   "cell_type": "code",
   "execution_count": 26,
   "metadata": {
    "collapsed": false
   },
   "outputs": [
    {
     "data": {
      "text/html": [
       "<div>\n",
       "<table border=\"1\" class=\"dataframe\">\n",
       "  <thead>\n",
       "    <tr style=\"text-align: right;\">\n",
       "      <th></th>\n",
       "      <th>0</th>\n",
       "      <th>1</th>\n",
       "    </tr>\n",
       "  </thead>\n",
       "  <tbody>\n",
       "    <tr>\n",
       "      <th>0</th>\n",
       "      <td>0</td>\n",
       "      <td>1</td>\n",
       "    </tr>\n",
       "    <tr>\n",
       "      <th>1</th>\n",
       "      <td>2</td>\n",
       "      <td>3</td>\n",
       "    </tr>\n",
       "  </tbody>\n",
       "</table>\n",
       "</div>"
      ],
      "text/plain": [
       "   0  1\n",
       "0  0  1\n",
       "1  2  3"
      ]
     },
     "execution_count": 26,
     "metadata": {},
     "output_type": "execute_result"
    }
   ],
   "source": [
    "tempdf = pd.DataFrame(np.arange(4).reshape(2,2))\n",
    "tempdf"
   ]
  },
  {
   "cell_type": "code",
   "execution_count": 27,
   "metadata": {
    "collapsed": false
   },
   "outputs": [
    {
     "data": {
      "text/html": [
       "<div>\n",
       "<table border=\"1\" class=\"dataframe\">\n",
       "  <thead>\n",
       "    <tr style=\"text-align: right;\">\n",
       "      <th></th>\n",
       "      <th>0</th>\n",
       "      <th>1</th>\n",
       "    </tr>\n",
       "  </thead>\n",
       "  <tbody>\n",
       "    <tr>\n",
       "      <th>0</th>\n",
       "      <td>0</td>\n",
       "      <td>1</td>\n",
       "    </tr>\n",
       "  </tbody>\n",
       "</table>\n",
       "</div>"
      ],
      "text/plain": [
       "   0  1\n",
       "0  0  1"
      ]
     },
     "execution_count": 27,
     "metadata": {},
     "output_type": "execute_result"
    }
   ],
   "source": [
    "tempdf.drop(1,axis=0)"
   ]
  },
  {
   "cell_type": "markdown",
   "metadata": {},
   "source": [
    "we Already saw how to create a new column, we can also create a new row using the append method. This takes in a data frame or Series and appends it to the end of the data frame."
   ]
  },
  {
   "cell_type": "code",
   "execution_count": 28,
   "metadata": {
    "collapsed": false
   },
   "outputs": [
    {
     "data": {
      "text/html": [
       "<div>\n",
       "<table border=\"1\" class=\"dataframe\">\n",
       "  <thead>\n",
       "    <tr style=\"text-align: right;\">\n",
       "      <th></th>\n",
       "      <th>0</th>\n",
       "      <th>1</th>\n",
       "    </tr>\n",
       "  </thead>\n",
       "  <tbody>\n",
       "    <tr>\n",
       "      <th>0</th>\n",
       "      <td>0</td>\n",
       "      <td>1</td>\n",
       "    </tr>\n",
       "    <tr>\n",
       "      <th>1</th>\n",
       "      <td>2</td>\n",
       "      <td>3</td>\n",
       "    </tr>\n",
       "    <tr>\n",
       "      <th>2</th>\n",
       "      <td>4</td>\n",
       "      <td>5</td>\n",
       "    </tr>\n",
       "  </tbody>\n",
       "</table>\n",
       "</div>"
      ],
      "text/plain": [
       "   0  1\n",
       "0  0  1\n",
       "1  2  3\n",
       "2  4  5"
      ]
     },
     "execution_count": 28,
     "metadata": {},
     "output_type": "execute_result"
    }
   ],
   "source": [
    "tempdf.append(pd.Series([4,5]), ignore_index=True)"
   ]
  },
  {
   "cell_type": "code",
   "execution_count": 29,
   "metadata": {
    "collapsed": false
   },
   "outputs": [
    {
     "data": {
      "text/html": [
       "<div>\n",
       "<table border=\"1\" class=\"dataframe\">\n",
       "  <thead>\n",
       "    <tr style=\"text-align: right;\">\n",
       "      <th></th>\n",
       "      <th>Date</th>\n",
       "      <th>Miles</th>\n",
       "      <th>Seconds</th>\n",
       "      <th>Minutes</th>\n",
       "      <th>Min_per_mile</th>\n",
       "      <th>Day_of_week</th>\n",
       "    </tr>\n",
       "  </thead>\n",
       "  <tbody>\n",
       "    <tr>\n",
       "      <th>0</th>\n",
       "      <td>2014-08-02</td>\n",
       "      <td>1.70</td>\n",
       "      <td>NaN</td>\n",
       "      <td>NaN</td>\n",
       "      <td>NaN</td>\n",
       "      <td>Saturday</td>\n",
       "    </tr>\n",
       "    <tr>\n",
       "      <th>1</th>\n",
       "      <td>2014-08-03</td>\n",
       "      <td>1.40</td>\n",
       "      <td>NaN</td>\n",
       "      <td>NaN</td>\n",
       "      <td>NaN</td>\n",
       "      <td>Sunday</td>\n",
       "    </tr>\n",
       "    <tr>\n",
       "      <th>2</th>\n",
       "      <td>2014-08-04</td>\n",
       "      <td>2.10</td>\n",
       "      <td>NaN</td>\n",
       "      <td>NaN</td>\n",
       "      <td>NaN</td>\n",
       "      <td>Monday</td>\n",
       "    </tr>\n",
       "    <tr>\n",
       "      <th>3</th>\n",
       "      <td>2014-08-05</td>\n",
       "      <td>0.00</td>\n",
       "      <td>NaN</td>\n",
       "      <td>NaN</td>\n",
       "      <td>NaN</td>\n",
       "      <td>Tuesday</td>\n",
       "    </tr>\n",
       "    <tr>\n",
       "      <th>4</th>\n",
       "      <td>2014-08-06</td>\n",
       "      <td>2.38</td>\n",
       "      <td>NaN</td>\n",
       "      <td>NaN</td>\n",
       "      <td>NaN</td>\n",
       "      <td>Wednesday</td>\n",
       "    </tr>\n",
       "  </tbody>\n",
       "</table>\n",
       "</div>"
      ],
      "text/plain": [
       "        Date  Miles  Seconds  Minutes  Min_per_mile Day_of_week\n",
       "0 2014-08-02   1.70      NaN      NaN           NaN    Saturday\n",
       "1 2014-08-03   1.40      NaN      NaN           NaN      Sunday\n",
       "2 2014-08-04   2.10      NaN      NaN           NaN      Monday\n",
       "3 2014-08-05   0.00      NaN      NaN           NaN     Tuesday\n",
       "4 2014-08-06   2.38      NaN      NaN           NaN   Wednesday"
      ]
     },
     "execution_count": 29,
     "metadata": {},
     "output_type": "execute_result"
    }
   ],
   "source": [
    "df.head()"
   ]
  },
  {
   "cell_type": "markdown",
   "metadata": {},
   "source": [
    "We can also pop out a column which will remove it from a data frame and return the Series. You'll see that it happens in place."
   ]
  },
  {
   "cell_type": "code",
   "execution_count": 30,
   "metadata": {
    "collapsed": false
   },
   "outputs": [
    {
     "data": {
      "text/plain": [
       "0        NaN\n",
       "1        NaN\n",
       "2        NaN\n",
       "3        NaN\n",
       "4        NaN\n",
       "5        NaN\n",
       "6        NaN\n",
       "7        NaN\n",
       "8       1717\n",
       "9        787\n",
       "10       635\n",
       "11      1045\n",
       "12       376\n",
       "13       376\n",
       "14       NaN\n",
       "15       NaN\n",
       "16       NaN\n",
       "17       NaN\n",
       "18       NaN\n",
       "19       NaN\n",
       "20       573\n",
       "21       564\n",
       "22       545\n",
       "23       NaN\n",
       "24       NaN\n",
       "25       535\n",
       "26       NaN\n",
       "27       630\n",
       "28      1500\n",
       "29       NaN\n",
       "       ...  \n",
       "136      NaN\n",
       "137      NaN\n",
       "138      NaN\n",
       "139      NaN\n",
       "140      NaN\n",
       "141     1500\n",
       "142      NaN\n",
       "143      NaN\n",
       "144      555\n",
       "145     2616\n",
       "146     1139\n",
       "147      NaN\n",
       "148     3523\n",
       "149      NaN\n",
       "150     5940\n",
       "151      NaN\n",
       "152     1575\n",
       "153     8100\n",
       "154      NaN\n",
       "155     1680\n",
       "156     3110\n",
       "157     1508\n",
       "158     8400\n",
       "159      NaN\n",
       "160      NaN\n",
       "161      NaN\n",
       "162      NaN\n",
       "163     1330\n",
       "164      NaN\n",
       "165    15643\n",
       "Name: Seconds, dtype: float64"
      ]
     },
     "execution_count": 30,
     "metadata": {},
     "output_type": "execute_result"
    }
   ],
   "source": [
    "df.pop('Seconds')"
   ]
  },
  {
   "cell_type": "code",
   "execution_count": 31,
   "metadata": {
    "collapsed": false
   },
   "outputs": [
    {
     "data": {
      "text/html": [
       "<div>\n",
       "<table border=\"1\" class=\"dataframe\">\n",
       "  <thead>\n",
       "    <tr style=\"text-align: right;\">\n",
       "      <th></th>\n",
       "      <th>Date</th>\n",
       "      <th>Miles</th>\n",
       "      <th>Minutes</th>\n",
       "      <th>Min_per_mile</th>\n",
       "      <th>Day_of_week</th>\n",
       "    </tr>\n",
       "  </thead>\n",
       "  <tbody>\n",
       "    <tr>\n",
       "      <th>0</th>\n",
       "      <td>2014-08-02</td>\n",
       "      <td>1.70</td>\n",
       "      <td>NaN</td>\n",
       "      <td>NaN</td>\n",
       "      <td>Saturday</td>\n",
       "    </tr>\n",
       "    <tr>\n",
       "      <th>1</th>\n",
       "      <td>2014-08-03</td>\n",
       "      <td>1.40</td>\n",
       "      <td>NaN</td>\n",
       "      <td>NaN</td>\n",
       "      <td>Sunday</td>\n",
       "    </tr>\n",
       "    <tr>\n",
       "      <th>2</th>\n",
       "      <td>2014-08-04</td>\n",
       "      <td>2.10</td>\n",
       "      <td>NaN</td>\n",
       "      <td>NaN</td>\n",
       "      <td>Monday</td>\n",
       "    </tr>\n",
       "    <tr>\n",
       "      <th>3</th>\n",
       "      <td>2014-08-05</td>\n",
       "      <td>0.00</td>\n",
       "      <td>NaN</td>\n",
       "      <td>NaN</td>\n",
       "      <td>Tuesday</td>\n",
       "    </tr>\n",
       "    <tr>\n",
       "      <th>4</th>\n",
       "      <td>2014-08-06</td>\n",
       "      <td>2.38</td>\n",
       "      <td>NaN</td>\n",
       "      <td>NaN</td>\n",
       "      <td>Wednesday</td>\n",
       "    </tr>\n",
       "  </tbody>\n",
       "</table>\n",
       "</div>"
      ],
      "text/plain": [
       "        Date  Miles  Minutes  Min_per_mile Day_of_week\n",
       "0 2014-08-02   1.70      NaN           NaN    Saturday\n",
       "1 2014-08-03   1.40      NaN           NaN      Sunday\n",
       "2 2014-08-04   2.10      NaN           NaN      Monday\n",
       "3 2014-08-05   0.00      NaN           NaN     Tuesday\n",
       "4 2014-08-06   2.38      NaN           NaN   Wednesday"
      ]
     },
     "execution_count": 31,
     "metadata": {},
     "output_type": "execute_result"
    }
   ],
   "source": [
    "df.head()"
   ]
  },
  {
   "cell_type": "markdown",
   "metadata": {},
   "source": [
    "Now we've made our dataset a bit more manageable. We've kind of just got the basics of what we need to perform some groupwise analysis.\n",
    "\n",
    "Now at this point we're going to do some groupings. This is an extremely powerful part of pandas and one that you'll use all the time.\n",
    "\n",
    "pandas follows the the Split-Apply-Combine style of data analysis.\n",
    "\n",
    "Many data analysis problems involve the application of a split-apply-combine strategy, where you break up a big problem into manageable pieces, operate on each piece independently and then put all the pieces back together. \n",
    "\n",
    "Hadley Wickhan from Rice University:\n",
    "http://www.jstatsoft.org/v40/i01/paper\n"
   ]
  },
  {
   "cell_type": "markdown",
   "metadata": {},
   "source": [
    "Since we're going to want to check things in groups. What I'm going to do is try to analyze each day of the week to see if there are any differences in the types of running that I do on those days."
   ]
  },
  {
   "cell_type": "markdown",
   "metadata": {},
   "source": [
    "we'll start by grouping or data set on those weekdays. Basically creating a dictionary of the data where the key is the weekday and the value is the dataframe of all those values."
   ]
  },
  {
   "cell_type": "markdown",
   "metadata": {},
   "source": [
    "First let's do this the hard way...."
   ]
  },
  {
   "cell_type": "code",
   "execution_count": 32,
   "metadata": {
    "collapsed": false
   },
   "outputs": [
    {
     "name": "stdout",
     "output_type": "stream",
     "text": [
      "Saturday\n",
      "          Date  Miles     Minutes  Min_per_mile Day_of_week\n",
      "0   2014-08-02   1.70         NaN           NaN    Saturday\n",
      "7   2014-08-09   2.50         NaN           NaN    Saturday\n",
      "15  2014-08-16   0.65         NaN           NaN    Saturday\n",
      "23  2014-08-23   1.34         NaN           NaN    Saturday\n",
      "31  2014-08-30   0.00         NaN           NaN    Saturday\n",
      "38  2014-09-06   0.00         NaN           NaN    Saturday\n",
      "45  2014-09-13   0.00         NaN           NaN    Saturday\n",
      "52  2014-09-20   0.00         NaN           NaN    Saturday\n",
      "59  2014-09-27   0.00         NaN           NaN    Saturday\n",
      "67  2014-10-04   4.63   40.000000      8.639309    Saturday\n",
      "68  2014-10-04   1.87         NaN           NaN    Saturday\n",
      "69  2014-10-04   4.08   33.000000      8.088235    Saturday\n",
      "76  2014-10-11   0.00         NaN           NaN    Saturday\n",
      "83  2014-10-18   1.50    9.666667      6.444444    Saturday\n",
      "84  2014-10-18   1.50         NaN           NaN    Saturday\n",
      "85  2014-10-18   1.37         NaN           NaN    Saturday\n",
      "92  2014-10-25   2.00         NaN           NaN    Saturday\n",
      "99  2014-11-01   0.00         NaN           NaN    Saturday\n",
      "108 2014-11-08   0.00         NaN           NaN    Saturday\n",
      "117 2014-11-15   0.00         NaN           NaN    Saturday\n",
      "124 2014-11-22   0.00         NaN           NaN    Saturday\n",
      "131 2014-11-29   0.00         NaN           NaN    Saturday\n",
      "138 2014-12-06   0.00         NaN           NaN    Saturday\n",
      "145 2014-12-13   5.30   43.600000      8.226415    Saturday\n",
      "146 2014-12-13   2.21   18.983333      8.589744    Saturday\n",
      "153 2014-12-20  14.80  135.000000      9.121622    Saturday\n",
      "160 2014-12-27   0.00         NaN           NaN    Saturday\n"
     ]
    }
   ],
   "source": [
    "for dow in df.Day_of_week.unique():\n",
    "    print(dow)\n",
    "    print(df[df.Day_of_week == dow])\n",
    "    break"
   ]
  },
  {
   "cell_type": "markdown",
   "metadata": {},
   "source": [
    "This is clearly an ugly way to do this and pandas provides a much more simple way of approaching this problem. by creating a groupby object.\n",
    "\n",
    "But first I'm going to filter out our zero values because they'll throw off our analysis."
   ]
  },
  {
   "cell_type": "code",
   "execution_count": 33,
   "metadata": {
    "collapsed": false
   },
   "outputs": [],
   "source": [
    "df['Miles'] = df.Miles[df.Miles > 0]"
   ]
  },
  {
   "cell_type": "code",
   "execution_count": 34,
   "metadata": {
    "collapsed": false
   },
   "outputs": [
    {
     "name": "stdout",
     "output_type": "stream",
     "text": [
      "<pandas.core.groupby.DataFrameGroupBy object at 0x10700cdd0>\n"
     ]
    }
   ],
   "source": [
    "dows = df.groupby('Day_of_week')\n",
    "print(dows)"
   ]
  },
  {
   "cell_type": "markdown",
   "metadata": {},
   "source": [
    "We can get the size of each one by using the size command. This basically tells us how many items are in each category."
   ]
  },
  {
   "cell_type": "code",
   "execution_count": 35,
   "metadata": {
    "collapsed": false
   },
   "outputs": [
    {
     "data": {
      "text/plain": [
       "Day_of_week\n",
       "Friday       23\n",
       "Monday       25\n",
       "Saturday     27\n",
       "Sunday       23\n",
       "Thursday     23\n",
       "Tuesday      23\n",
       "Wednesday    22\n",
       "dtype: int64"
      ]
     },
     "execution_count": 35,
     "metadata": {},
     "output_type": "execute_result"
    }
   ],
   "source": [
    "dows.size()"
   ]
  },
  {
   "cell_type": "code",
   "execution_count": 36,
   "metadata": {
    "collapsed": false
   },
   "outputs": [
    {
     "data": {
      "text/html": [
       "<div>\n",
       "<table border=\"1\" class=\"dataframe\">\n",
       "  <thead>\n",
       "    <tr style=\"text-align: right;\">\n",
       "      <th></th>\n",
       "      <th>Date</th>\n",
       "      <th>Miles</th>\n",
       "      <th>Minutes</th>\n",
       "      <th>Min_per_mile</th>\n",
       "    </tr>\n",
       "    <tr>\n",
       "      <th>Day_of_week</th>\n",
       "      <th></th>\n",
       "      <th></th>\n",
       "      <th></th>\n",
       "      <th></th>\n",
       "    </tr>\n",
       "  </thead>\n",
       "  <tbody>\n",
       "    <tr>\n",
       "      <th>Friday</th>\n",
       "      <td>23</td>\n",
       "      <td>15</td>\n",
       "      <td>8</td>\n",
       "      <td>8</td>\n",
       "    </tr>\n",
       "    <tr>\n",
       "      <th>Monday</th>\n",
       "      <td>25</td>\n",
       "      <td>14</td>\n",
       "      <td>10</td>\n",
       "      <td>10</td>\n",
       "    </tr>\n",
       "    <tr>\n",
       "      <th>Saturday</th>\n",
       "      <td>27</td>\n",
       "      <td>14</td>\n",
       "      <td>6</td>\n",
       "      <td>6</td>\n",
       "    </tr>\n",
       "    <tr>\n",
       "      <th>Sunday</th>\n",
       "      <td>23</td>\n",
       "      <td>11</td>\n",
       "      <td>8</td>\n",
       "      <td>8</td>\n",
       "    </tr>\n",
       "    <tr>\n",
       "      <th>Thursday</th>\n",
       "      <td>23</td>\n",
       "      <td>8</td>\n",
       "      <td>5</td>\n",
       "      <td>5</td>\n",
       "    </tr>\n",
       "    <tr>\n",
       "      <th>Tuesday</th>\n",
       "      <td>23</td>\n",
       "      <td>11</td>\n",
       "      <td>8</td>\n",
       "      <td>8</td>\n",
       "    </tr>\n",
       "    <tr>\n",
       "      <th>Wednesday</th>\n",
       "      <td>22</td>\n",
       "      <td>8</td>\n",
       "      <td>7</td>\n",
       "      <td>7</td>\n",
       "    </tr>\n",
       "  </tbody>\n",
       "</table>\n",
       "</div>"
      ],
      "text/plain": [
       "             Date  Miles  Minutes  Min_per_mile\n",
       "Day_of_week                                    \n",
       "Friday         23     15        8             8\n",
       "Monday         25     14       10            10\n",
       "Saturday       27     14        6             6\n",
       "Sunday         23     11        8             8\n",
       "Thursday       23      8        5             5\n",
       "Tuesday        23     11        8             8\n",
       "Wednesday      22      8        7             7"
      ]
     },
     "execution_count": 36,
     "metadata": {},
     "output_type": "execute_result"
    }
   ],
   "source": [
    "dows.count()"
   ]
  },
  {
   "cell_type": "markdown",
   "metadata": {},
   "source": [
    "Now we have our groups and we can start doing groupwise analysis, now what does that mean? \n",
    "\n",
    "It means we can start answering questions like what is the average speed per weekday or what is the total miles run per weekday?"
   ]
  },
  {
   "cell_type": "code",
   "execution_count": 37,
   "metadata": {
    "collapsed": false
   },
   "outputs": [
    {
     "data": {
      "text/html": [
       "<div>\n",
       "<table border=\"1\" class=\"dataframe\">\n",
       "  <thead>\n",
       "    <tr style=\"text-align: right;\">\n",
       "      <th></th>\n",
       "      <th>Miles</th>\n",
       "      <th>Minutes</th>\n",
       "      <th>Min_per_mile</th>\n",
       "    </tr>\n",
       "    <tr>\n",
       "      <th>Day_of_week</th>\n",
       "      <th></th>\n",
       "      <th></th>\n",
       "      <th></th>\n",
       "    </tr>\n",
       "  </thead>\n",
       "  <tbody>\n",
       "    <tr>\n",
       "      <th>Friday</th>\n",
       "      <td>2.786000</td>\n",
       "      <td>24.308333</td>\n",
       "      <td>7.747657</td>\n",
       "    </tr>\n",
       "    <tr>\n",
       "      <th>Monday</th>\n",
       "      <td>2.607143</td>\n",
       "      <td>22.243333</td>\n",
       "      <td>7.463291</td>\n",
       "    </tr>\n",
       "    <tr>\n",
       "      <th>Saturday</th>\n",
       "      <td>3.246429</td>\n",
       "      <td>46.708333</td>\n",
       "      <td>8.184961</td>\n",
       "    </tr>\n",
       "    <tr>\n",
       "      <th>Sunday</th>\n",
       "      <td>2.422727</td>\n",
       "      <td>19.762500</td>\n",
       "      <td>7.463840</td>\n",
       "    </tr>\n",
       "    <tr>\n",
       "      <th>Thursday</th>\n",
       "      <td>6.315000</td>\n",
       "      <td>84.530000</td>\n",
       "      <td>8.039543</td>\n",
       "    </tr>\n",
       "    <tr>\n",
       "      <th>Tuesday</th>\n",
       "      <td>2.428182</td>\n",
       "      <td>21.770833</td>\n",
       "      <td>7.659706</td>\n",
       "    </tr>\n",
       "    <tr>\n",
       "      <th>Wednesday</th>\n",
       "      <td>3.315000</td>\n",
       "      <td>28.021429</td>\n",
       "      <td>7.829348</td>\n",
       "    </tr>\n",
       "  </tbody>\n",
       "</table>\n",
       "</div>"
      ],
      "text/plain": [
       "                Miles    Minutes  Min_per_mile\n",
       "Day_of_week                                   \n",
       "Friday       2.786000  24.308333      7.747657\n",
       "Monday       2.607143  22.243333      7.463291\n",
       "Saturday     3.246429  46.708333      8.184961\n",
       "Sunday       2.422727  19.762500      7.463840\n",
       "Thursday     6.315000  84.530000      8.039543\n",
       "Tuesday      2.428182  21.770833      7.659706\n",
       "Wednesday    3.315000  28.021429      7.829348"
      ]
     },
     "execution_count": 37,
     "metadata": {},
     "output_type": "execute_result"
    }
   ],
   "source": [
    "dows.mean()"
   ]
  },
  {
   "cell_type": "code",
   "execution_count": 38,
   "metadata": {
    "collapsed": false
   },
   "outputs": [
    {
     "data": {
      "text/html": [
       "<div>\n",
       "<table border=\"1\" class=\"dataframe\">\n",
       "  <thead>\n",
       "    <tr style=\"text-align: right;\">\n",
       "      <th></th>\n",
       "      <th>Miles</th>\n",
       "      <th>Minutes</th>\n",
       "      <th>Min_per_mile</th>\n",
       "    </tr>\n",
       "    <tr>\n",
       "      <th>Day_of_week</th>\n",
       "      <th></th>\n",
       "      <th></th>\n",
       "      <th></th>\n",
       "    </tr>\n",
       "  </thead>\n",
       "  <tbody>\n",
       "    <tr>\n",
       "      <th>Friday</th>\n",
       "      <td>41.79</td>\n",
       "      <td>194.466667</td>\n",
       "      <td>61.981259</td>\n",
       "    </tr>\n",
       "    <tr>\n",
       "      <th>Monday</th>\n",
       "      <td>36.50</td>\n",
       "      <td>222.433333</td>\n",
       "      <td>74.632908</td>\n",
       "    </tr>\n",
       "    <tr>\n",
       "      <th>Saturday</th>\n",
       "      <td>45.45</td>\n",
       "      <td>280.250000</td>\n",
       "      <td>49.109769</td>\n",
       "    </tr>\n",
       "    <tr>\n",
       "      <th>Sunday</th>\n",
       "      <td>26.65</td>\n",
       "      <td>158.100000</td>\n",
       "      <td>59.710723</td>\n",
       "    </tr>\n",
       "    <tr>\n",
       "      <th>Thursday</th>\n",
       "      <td>50.52</td>\n",
       "      <td>422.650000</td>\n",
       "      <td>40.197717</td>\n",
       "    </tr>\n",
       "    <tr>\n",
       "      <th>Tuesday</th>\n",
       "      <td>26.71</td>\n",
       "      <td>174.166667</td>\n",
       "      <td>61.277645</td>\n",
       "    </tr>\n",
       "    <tr>\n",
       "      <th>Wednesday</th>\n",
       "      <td>26.52</td>\n",
       "      <td>196.150000</td>\n",
       "      <td>54.805434</td>\n",
       "    </tr>\n",
       "  </tbody>\n",
       "</table>\n",
       "</div>"
      ],
      "text/plain": [
       "             Miles     Minutes  Min_per_mile\n",
       "Day_of_week                                 \n",
       "Friday       41.79  194.466667     61.981259\n",
       "Monday       36.50  222.433333     74.632908\n",
       "Saturday     45.45  280.250000     49.109769\n",
       "Sunday       26.65  158.100000     59.710723\n",
       "Thursday     50.52  422.650000     40.197717\n",
       "Tuesday      26.71  174.166667     61.277645\n",
       "Wednesday    26.52  196.150000     54.805434"
      ]
     },
     "execution_count": 38,
     "metadata": {},
     "output_type": "execute_result"
    }
   ],
   "source": [
    "dows.sum()"
   ]
  },
  {
   "cell_type": "markdown",
   "metadata": {},
   "source": [
    "It might be interesting to see the total sum of the amount of runs to try and see any outliers simply because Thursday, Friday, Saturday are close in distances, relatively, but not so much in speed."
   ]
  },
  {
   "cell_type": "markdown",
   "metadata": {},
   "source": [
    "We also get access to a lot of summary statistics from here that we can get from the groups."
   ]
  },
  {
   "cell_type": "code",
   "execution_count": 39,
   "metadata": {
    "collapsed": false
   },
   "outputs": [
    {
     "data": {
      "text/html": [
       "<div>\n",
       "<table border=\"1\" class=\"dataframe\">\n",
       "  <thead>\n",
       "    <tr style=\"text-align: right;\">\n",
       "      <th></th>\n",
       "      <th></th>\n",
       "      <th>Miles</th>\n",
       "      <th>Min_per_mile</th>\n",
       "      <th>Minutes</th>\n",
       "    </tr>\n",
       "    <tr>\n",
       "      <th>Day_of_week</th>\n",
       "      <th></th>\n",
       "      <th></th>\n",
       "      <th></th>\n",
       "      <th></th>\n",
       "    </tr>\n",
       "  </thead>\n",
       "  <tbody>\n",
       "    <tr>\n",
       "      <th rowspan=\"8\" valign=\"top\">Friday</th>\n",
       "      <th>count</th>\n",
       "      <td>15.000000</td>\n",
       "      <td>8.000000</td>\n",
       "      <td>8.000000</td>\n",
       "    </tr>\n",
       "    <tr>\n",
       "      <th>mean</th>\n",
       "      <td>2.786000</td>\n",
       "      <td>7.747657</td>\n",
       "      <td>24.308333</td>\n",
       "    </tr>\n",
       "    <tr>\n",
       "      <th>std</th>\n",
       "      <td>1.510718</td>\n",
       "      <td>0.844590</td>\n",
       "      <td>15.376198</td>\n",
       "    </tr>\n",
       "    <tr>\n",
       "      <th>min</th>\n",
       "      <td>1.200000</td>\n",
       "      <td>6.630170</td>\n",
       "      <td>9.083333</td>\n",
       "    </tr>\n",
       "    <tr>\n",
       "      <th>25%</th>\n",
       "      <td>1.370000</td>\n",
       "      <td>7.025547</td>\n",
       "      <td>9.625000</td>\n",
       "    </tr>\n",
       "    <tr>\n",
       "      <th>50%</th>\n",
       "      <td>3.000000</td>\n",
       "      <td>7.803279</td>\n",
       "      <td>23.800000</td>\n",
       "    </tr>\n",
       "    <tr>\n",
       "      <th>75%</th>\n",
       "      <td>3.250000</td>\n",
       "      <td>8.523306</td>\n",
       "      <td>30.550000</td>\n",
       "    </tr>\n",
       "    <tr>\n",
       "      <th>max</th>\n",
       "      <td>5.630000</td>\n",
       "      <td>8.718176</td>\n",
       "      <td>49.083333</td>\n",
       "    </tr>\n",
       "    <tr>\n",
       "      <th rowspan=\"8\" valign=\"top\">Monday</th>\n",
       "      <th>count</th>\n",
       "      <td>14.000000</td>\n",
       "      <td>10.000000</td>\n",
       "      <td>10.000000</td>\n",
       "    </tr>\n",
       "    <tr>\n",
       "      <th>mean</th>\n",
       "      <td>2.607143</td>\n",
       "      <td>7.463291</td>\n",
       "      <td>22.243333</td>\n",
       "    </tr>\n",
       "    <tr>\n",
       "      <th>std</th>\n",
       "      <td>1.688538</td>\n",
       "      <td>1.037698</td>\n",
       "      <td>16.318699</td>\n",
       "    </tr>\n",
       "    <tr>\n",
       "      <th>min</th>\n",
       "      <td>0.650000</td>\n",
       "      <td>6.000000</td>\n",
       "      <td>8.600000</td>\n",
       "    </tr>\n",
       "    <tr>\n",
       "      <th>25%</th>\n",
       "      <td>1.402500</td>\n",
       "      <td>6.677835</td>\n",
       "      <td>9.637500</td>\n",
       "    </tr>\n",
       "    <tr>\n",
       "      <th>50%</th>\n",
       "      <td>1.885000</td>\n",
       "      <td>7.520672</td>\n",
       "      <td>17.516667</td>\n",
       "    </tr>\n",
       "    <tr>\n",
       "      <th>75%</th>\n",
       "      <td>3.087500</td>\n",
       "      <td>7.815719</td>\n",
       "      <td>26.795833</td>\n",
       "    </tr>\n",
       "    <tr>\n",
       "      <th>max</th>\n",
       "      <td>6.500000</td>\n",
       "      <td>9.033333</td>\n",
       "      <td>58.716667</td>\n",
       "    </tr>\n",
       "    <tr>\n",
       "      <th rowspan=\"8\" valign=\"top\">Saturday</th>\n",
       "      <th>count</th>\n",
       "      <td>14.000000</td>\n",
       "      <td>6.000000</td>\n",
       "      <td>6.000000</td>\n",
       "    </tr>\n",
       "    <tr>\n",
       "      <th>mean</th>\n",
       "      <td>3.246429</td>\n",
       "      <td>8.184961</td>\n",
       "      <td>46.708333</td>\n",
       "    </tr>\n",
       "    <tr>\n",
       "      <th>std</th>\n",
       "      <td>3.592504</td>\n",
       "      <td>0.926076</td>\n",
       "      <td>45.119311</td>\n",
       "    </tr>\n",
       "    <tr>\n",
       "      <th>min</th>\n",
       "      <td>0.650000</td>\n",
       "      <td>6.444444</td>\n",
       "      <td>9.666667</td>\n",
       "    </tr>\n",
       "    <tr>\n",
       "      <th>25%</th>\n",
       "      <td>1.500000</td>\n",
       "      <td>8.122780</td>\n",
       "      <td>22.487500</td>\n",
       "    </tr>\n",
       "    <tr>\n",
       "      <th>50%</th>\n",
       "      <td>1.935000</td>\n",
       "      <td>8.408079</td>\n",
       "      <td>36.500000</td>\n",
       "    </tr>\n",
       "    <tr>\n",
       "      <th>75%</th>\n",
       "      <td>3.685000</td>\n",
       "      <td>8.626918</td>\n",
       "      <td>42.700000</td>\n",
       "    </tr>\n",
       "    <tr>\n",
       "      <th>max</th>\n",
       "      <td>14.800000</td>\n",
       "      <td>9.121622</td>\n",
       "      <td>135.000000</td>\n",
       "    </tr>\n",
       "    <tr>\n",
       "      <th rowspan=\"8\" valign=\"top\">Sunday</th>\n",
       "      <th>count</th>\n",
       "      <td>11.000000</td>\n",
       "      <td>8.000000</td>\n",
       "      <td>8.000000</td>\n",
       "    </tr>\n",
       "    <tr>\n",
       "      <th>mean</th>\n",
       "      <td>2.422727</td>\n",
       "      <td>7.463840</td>\n",
       "      <td>19.762500</td>\n",
       "    </tr>\n",
       "    <tr>\n",
       "      <th>std</th>\n",
       "      <td>1.000241</td>\n",
       "      <td>0.578829</td>\n",
       "      <td>8.282836</td>\n",
       "    </tr>\n",
       "    <tr>\n",
       "      <th>min</th>\n",
       "      <td>1.340000</td>\n",
       "      <td>6.362530</td>\n",
       "      <td>8.716667</td>\n",
       "    </tr>\n",
       "    <tr>\n",
       "      <th>25%</th>\n",
       "      <td>1.450000</td>\n",
       "      <td>7.408470</td>\n",
       "      <td>11.300000</td>\n",
       "    </tr>\n",
       "    <tr>\n",
       "      <th>50%</th>\n",
       "      <td>3.000000</td>\n",
       "      <td>7.474317</td>\n",
       "      <td>22.591667</td>\n",
       "    </tr>\n",
       "    <tr>\n",
       "      <th>75%</th>\n",
       "      <td>3.050000</td>\n",
       "      <td>7.533788</td>\n",
       "      <td>24.116667</td>\n",
       "    </tr>\n",
       "    <tr>\n",
       "      <th>max</th>\n",
       "      <td>4.030000</td>\n",
       "      <td>8.516865</td>\n",
       "      <td>30.366667</td>\n",
       "    </tr>\n",
       "    <tr>\n",
       "      <th rowspan=\"8\" valign=\"top\">Thursday</th>\n",
       "      <th>count</th>\n",
       "      <td>8.000000</td>\n",
       "      <td>5.000000</td>\n",
       "      <td>5.000000</td>\n",
       "    </tr>\n",
       "    <tr>\n",
       "      <th>mean</th>\n",
       "      <td>6.315000</td>\n",
       "      <td>8.039543</td>\n",
       "      <td>84.530000</td>\n",
       "    </tr>\n",
       "    <tr>\n",
       "      <th>std</th>\n",
       "      <td>9.300811</td>\n",
       "      <td>1.531027</td>\n",
       "      <td>114.032318</td>\n",
       "    </tr>\n",
       "    <tr>\n",
       "      <th>min</th>\n",
       "      <td>0.900000</td>\n",
       "      <td>6.861314</td>\n",
       "      <td>6.266667</td>\n",
       "    </tr>\n",
       "    <tr>\n",
       "      <th>25%</th>\n",
       "      <td>0.975000</td>\n",
       "      <td>6.962963</td>\n",
       "      <td>6.266667</td>\n",
       "    </tr>\n",
       "    <tr>\n",
       "      <th>50%</th>\n",
       "      <td>1.835000</td>\n",
       "      <td>6.962963</td>\n",
       "      <td>9.400000</td>\n",
       "    </tr>\n",
       "    <tr>\n",
       "      <th>75%</th>\n",
       "      <td>5.987500</td>\n",
       "      <td>9.459459</td>\n",
       "      <td>140.000000</td>\n",
       "    </tr>\n",
       "    <tr>\n",
       "      <th>max</th>\n",
       "      <td>26.200000</td>\n",
       "      <td>9.951018</td>\n",
       "      <td>260.716667</td>\n",
       "    </tr>\n",
       "    <tr>\n",
       "      <th rowspan=\"8\" valign=\"top\">Tuesday</th>\n",
       "      <th>count</th>\n",
       "      <td>11.000000</td>\n",
       "      <td>8.000000</td>\n",
       "      <td>8.000000</td>\n",
       "    </tr>\n",
       "    <tr>\n",
       "      <th>mean</th>\n",
       "      <td>2.428182</td>\n",
       "      <td>7.659706</td>\n",
       "      <td>21.770833</td>\n",
       "    </tr>\n",
       "    <tr>\n",
       "      <th>std</th>\n",
       "      <td>1.321990</td>\n",
       "      <td>0.830158</td>\n",
       "      <td>13.777549</td>\n",
       "    </tr>\n",
       "    <tr>\n",
       "      <th>min</th>\n",
       "      <td>1.370000</td>\n",
       "      <td>6.630170</td>\n",
       "      <td>9.083333</td>\n",
       "    </tr>\n",
       "    <tr>\n",
       "      <th>25%</th>\n",
       "      <td>1.370000</td>\n",
       "      <td>7.218276</td>\n",
       "      <td>10.562500</td>\n",
       "    </tr>\n",
       "    <tr>\n",
       "      <th>50%</th>\n",
       "      <td>2.000000</td>\n",
       "      <td>7.464231</td>\n",
       "      <td>22.183333</td>\n",
       "    </tr>\n",
       "    <tr>\n",
       "      <th>75%</th>\n",
       "      <td>3.050000</td>\n",
       "      <td>7.881281</td>\n",
       "      <td>23.350000</td>\n",
       "    </tr>\n",
       "    <tr>\n",
       "      <th>max</th>\n",
       "      <td>5.630000</td>\n",
       "      <td>9.206631</td>\n",
       "      <td>51.833333</td>\n",
       "    </tr>\n",
       "    <tr>\n",
       "      <th rowspan=\"8\" valign=\"top\">Wednesday</th>\n",
       "      <th>count</th>\n",
       "      <td>8.000000</td>\n",
       "      <td>7.000000</td>\n",
       "      <td>7.000000</td>\n",
       "    </tr>\n",
       "    <tr>\n",
       "      <th>mean</th>\n",
       "      <td>3.315000</td>\n",
       "      <td>7.829348</td>\n",
       "      <td>28.021429</td>\n",
       "    </tr>\n",
       "    <tr>\n",
       "      <th>std</th>\n",
       "      <td>3.562291</td>\n",
       "      <td>1.142713</td>\n",
       "      <td>32.039394</td>\n",
       "    </tr>\n",
       "    <tr>\n",
       "      <th>min</th>\n",
       "      <td>1.370000</td>\n",
       "      <td>6.532847</td>\n",
       "      <td>8.950000</td>\n",
       "    </tr>\n",
       "    <tr>\n",
       "      <th>25%</th>\n",
       "      <td>1.467500</td>\n",
       "      <td>7.185401</td>\n",
       "      <td>10.325000</td>\n",
       "    </tr>\n",
       "    <tr>\n",
       "      <th>50%</th>\n",
       "      <td>2.365000</td>\n",
       "      <td>7.411348</td>\n",
       "      <td>17.416667</td>\n",
       "    </tr>\n",
       "    <tr>\n",
       "      <th>75%</th>\n",
       "      <td>2.637500</td>\n",
       "      <td>8.245219</td>\n",
       "      <td>25.066667</td>\n",
       "    </tr>\n",
       "    <tr>\n",
       "      <th>max</th>\n",
       "      <td>12.000000</td>\n",
       "      <td>10.000000</td>\n",
       "      <td>99.000000</td>\n",
       "    </tr>\n",
       "  </tbody>\n",
       "</table>\n",
       "</div>"
      ],
      "text/plain": [
       "                       Miles  Min_per_mile     Minutes\n",
       "Day_of_week                                           \n",
       "Friday      count  15.000000      8.000000    8.000000\n",
       "            mean    2.786000      7.747657   24.308333\n",
       "            std     1.510718      0.844590   15.376198\n",
       "            min     1.200000      6.630170    9.083333\n",
       "            25%     1.370000      7.025547    9.625000\n",
       "            50%     3.000000      7.803279   23.800000\n",
       "            75%     3.250000      8.523306   30.550000\n",
       "            max     5.630000      8.718176   49.083333\n",
       "Monday      count  14.000000     10.000000   10.000000\n",
       "            mean    2.607143      7.463291   22.243333\n",
       "            std     1.688538      1.037698   16.318699\n",
       "            min     0.650000      6.000000    8.600000\n",
       "            25%     1.402500      6.677835    9.637500\n",
       "            50%     1.885000      7.520672   17.516667\n",
       "            75%     3.087500      7.815719   26.795833\n",
       "            max     6.500000      9.033333   58.716667\n",
       "Saturday    count  14.000000      6.000000    6.000000\n",
       "            mean    3.246429      8.184961   46.708333\n",
       "            std     3.592504      0.926076   45.119311\n",
       "            min     0.650000      6.444444    9.666667\n",
       "            25%     1.500000      8.122780   22.487500\n",
       "            50%     1.935000      8.408079   36.500000\n",
       "            75%     3.685000      8.626918   42.700000\n",
       "            max    14.800000      9.121622  135.000000\n",
       "Sunday      count  11.000000      8.000000    8.000000\n",
       "            mean    2.422727      7.463840   19.762500\n",
       "            std     1.000241      0.578829    8.282836\n",
       "            min     1.340000      6.362530    8.716667\n",
       "            25%     1.450000      7.408470   11.300000\n",
       "            50%     3.000000      7.474317   22.591667\n",
       "            75%     3.050000      7.533788   24.116667\n",
       "            max     4.030000      8.516865   30.366667\n",
       "Thursday    count   8.000000      5.000000    5.000000\n",
       "            mean    6.315000      8.039543   84.530000\n",
       "            std     9.300811      1.531027  114.032318\n",
       "            min     0.900000      6.861314    6.266667\n",
       "            25%     0.975000      6.962963    6.266667\n",
       "            50%     1.835000      6.962963    9.400000\n",
       "            75%     5.987500      9.459459  140.000000\n",
       "            max    26.200000      9.951018  260.716667\n",
       "Tuesday     count  11.000000      8.000000    8.000000\n",
       "            mean    2.428182      7.659706   21.770833\n",
       "            std     1.321990      0.830158   13.777549\n",
       "            min     1.370000      6.630170    9.083333\n",
       "            25%     1.370000      7.218276   10.562500\n",
       "            50%     2.000000      7.464231   22.183333\n",
       "            75%     3.050000      7.881281   23.350000\n",
       "            max     5.630000      9.206631   51.833333\n",
       "Wednesday   count   8.000000      7.000000    7.000000\n",
       "            mean    3.315000      7.829348   28.021429\n",
       "            std     3.562291      1.142713   32.039394\n",
       "            min     1.370000      6.532847    8.950000\n",
       "            25%     1.467500      7.185401   10.325000\n",
       "            50%     2.365000      7.411348   17.416667\n",
       "            75%     2.637500      8.245219   25.066667\n",
       "            max    12.000000     10.000000   99.000000"
      ]
     },
     "execution_count": 39,
     "metadata": {},
     "output_type": "execute_result"
    }
   ],
   "source": [
    "dows.describe()"
   ]
  },
  {
   "cell_type": "code",
   "execution_count": 40,
   "metadata": {
    "collapsed": false
   },
   "outputs": [
    {
     "data": {
      "text/html": [
       "<div>\n",
       "<table border=\"1\" class=\"dataframe\">\n",
       "  <thead>\n",
       "    <tr style=\"text-align: right;\">\n",
       "      <th></th>\n",
       "      <th>Miles</th>\n",
       "      <th>Minutes</th>\n",
       "      <th>Min_per_mile</th>\n",
       "    </tr>\n",
       "    <tr>\n",
       "      <th>Day_of_week</th>\n",
       "      <th></th>\n",
       "      <th></th>\n",
       "      <th></th>\n",
       "    </tr>\n",
       "  </thead>\n",
       "  <tbody>\n",
       "    <tr>\n",
       "      <th>Friday</th>\n",
       "      <td>2.786000</td>\n",
       "      <td>24.308333</td>\n",
       "      <td>7.747657</td>\n",
       "    </tr>\n",
       "    <tr>\n",
       "      <th>Monday</th>\n",
       "      <td>2.607143</td>\n",
       "      <td>22.243333</td>\n",
       "      <td>7.463291</td>\n",
       "    </tr>\n",
       "    <tr>\n",
       "      <th>Saturday</th>\n",
       "      <td>3.246429</td>\n",
       "      <td>46.708333</td>\n",
       "      <td>8.184961</td>\n",
       "    </tr>\n",
       "    <tr>\n",
       "      <th>Sunday</th>\n",
       "      <td>2.422727</td>\n",
       "      <td>19.762500</td>\n",
       "      <td>7.463840</td>\n",
       "    </tr>\n",
       "    <tr>\n",
       "      <th>Thursday</th>\n",
       "      <td>6.315000</td>\n",
       "      <td>84.530000</td>\n",
       "      <td>8.039543</td>\n",
       "    </tr>\n",
       "    <tr>\n",
       "      <th>Tuesday</th>\n",
       "      <td>2.428182</td>\n",
       "      <td>21.770833</td>\n",
       "      <td>7.659706</td>\n",
       "    </tr>\n",
       "    <tr>\n",
       "      <th>Wednesday</th>\n",
       "      <td>3.315000</td>\n",
       "      <td>28.021429</td>\n",
       "      <td>7.829348</td>\n",
       "    </tr>\n",
       "  </tbody>\n",
       "</table>\n",
       "</div>"
      ],
      "text/plain": [
       "                Miles    Minutes  Min_per_mile\n",
       "Day_of_week                                   \n",
       "Friday       2.786000  24.308333      7.747657\n",
       "Monday       2.607143  22.243333      7.463291\n",
       "Saturday     3.246429  46.708333      8.184961\n",
       "Sunday       2.422727  19.762500      7.463840\n",
       "Thursday     6.315000  84.530000      8.039543\n",
       "Tuesday      2.428182  21.770833      7.659706\n",
       "Wednesday    3.315000  28.021429      7.829348"
      ]
     },
     "execution_count": 40,
     "metadata": {},
     "output_type": "execute_result"
    }
   ],
   "source": [
    "df.groupby('Day_of_week').mean()"
   ]
  },
  {
   "cell_type": "code",
   "execution_count": 41,
   "metadata": {
    "collapsed": false
   },
   "outputs": [
    {
     "data": {
      "text/html": [
       "<div>\n",
       "<table border=\"1\" class=\"dataframe\">\n",
       "  <thead>\n",
       "    <tr style=\"text-align: right;\">\n",
       "      <th></th>\n",
       "      <th>Miles</th>\n",
       "      <th>Minutes</th>\n",
       "      <th>Min_per_mile</th>\n",
       "    </tr>\n",
       "    <tr>\n",
       "      <th>Day_of_week</th>\n",
       "      <th></th>\n",
       "      <th></th>\n",
       "      <th></th>\n",
       "    </tr>\n",
       "  </thead>\n",
       "  <tbody>\n",
       "    <tr>\n",
       "      <th>Friday</th>\n",
       "      <td>1.510718</td>\n",
       "      <td>15.376198</td>\n",
       "      <td>0.844590</td>\n",
       "    </tr>\n",
       "    <tr>\n",
       "      <th>Monday</th>\n",
       "      <td>1.688538</td>\n",
       "      <td>16.318699</td>\n",
       "      <td>1.037698</td>\n",
       "    </tr>\n",
       "    <tr>\n",
       "      <th>Saturday</th>\n",
       "      <td>3.592504</td>\n",
       "      <td>45.119311</td>\n",
       "      <td>0.926076</td>\n",
       "    </tr>\n",
       "    <tr>\n",
       "      <th>Sunday</th>\n",
       "      <td>1.000241</td>\n",
       "      <td>8.282836</td>\n",
       "      <td>0.578829</td>\n",
       "    </tr>\n",
       "    <tr>\n",
       "      <th>Thursday</th>\n",
       "      <td>9.300811</td>\n",
       "      <td>114.032318</td>\n",
       "      <td>1.531027</td>\n",
       "    </tr>\n",
       "    <tr>\n",
       "      <th>Tuesday</th>\n",
       "      <td>1.321990</td>\n",
       "      <td>13.777549</td>\n",
       "      <td>0.830158</td>\n",
       "    </tr>\n",
       "    <tr>\n",
       "      <th>Wednesday</th>\n",
       "      <td>3.562291</td>\n",
       "      <td>32.039394</td>\n",
       "      <td>1.142713</td>\n",
       "    </tr>\n",
       "  </tbody>\n",
       "</table>\n",
       "</div>"
      ],
      "text/plain": [
       "                Miles     Minutes  Min_per_mile\n",
       "Day_of_week                                    \n",
       "Friday       1.510718   15.376198      0.844590\n",
       "Monday       1.688538   16.318699      1.037698\n",
       "Saturday     3.592504   45.119311      0.926076\n",
       "Sunday       1.000241    8.282836      0.578829\n",
       "Thursday     9.300811  114.032318      1.531027\n",
       "Tuesday      1.321990   13.777549      0.830158\n",
       "Wednesday    3.562291   32.039394      1.142713"
      ]
     },
     "execution_count": 41,
     "metadata": {},
     "output_type": "execute_result"
    }
   ],
   "source": [
    "df.groupby('Day_of_week').std()"
   ]
  },
  {
   "cell_type": "markdown",
   "metadata": {},
   "source": [
    "iterating through the groups is also very straightforward"
   ]
  },
  {
   "cell_type": "code",
   "execution_count": 42,
   "metadata": {
    "collapsed": false
   },
   "outputs": [
    {
     "name": "stdout",
     "output_type": "stream",
     "text": [
      "Friday\n",
      "          Date  Miles    Minutes  Min_per_mile Day_of_week\n",
      "6   2014-08-08   3.40        NaN           NaN      Friday\n",
      "14  2014-08-15   1.78        NaN           NaN      Friday\n",
      "22  2014-08-22   1.37   9.083333      6.630170      Friday\n",
      "30  2014-08-29   5.00  43.450000      8.690000      Friday\n",
      "37  2014-09-05   3.05  23.833333      7.814208      Friday\n",
      "44  2014-09-12   3.05  23.766667      7.792350      Friday\n",
      "51  2014-09-19   1.37   9.750000      7.116788      Friday\n",
      "58  2014-09-26    NaN        NaN           NaN      Friday\n",
      "66  2014-10-03    NaN        NaN           NaN      Friday\n",
      "75  2014-10-10    NaN        NaN           NaN      Friday\n",
      "82  2014-10-17    NaN        NaN           NaN      Friday\n",
      "91  2014-10-24    NaN        NaN           NaN      Friday\n",
      "98  2014-10-31   2.01        NaN           NaN      Friday\n",
      "105 2014-11-07   5.63  49.083333      8.718176      Friday\n",
      "106 2014-11-07   1.26        NaN           NaN      Friday\n",
      "107 2014-11-07   1.20        NaN           NaN      Friday\n",
      "116 2014-11-14    NaN        NaN           NaN      Friday\n",
      "123 2014-11-21    NaN        NaN           NaN      Friday\n",
      "130 2014-11-28   3.00        NaN           NaN      Friday\n",
      "137 2014-12-05    NaN        NaN           NaN      Friday\n",
      "144 2014-12-12   1.37   9.250000      6.751825      Friday\n",
      "152 2014-12-19   3.10  26.250000      8.467742      Friday\n",
      "159 2014-12-26   5.20        NaN           NaN      Friday\n",
      "Monday\n",
      "          Date  Miles    Minutes  Min_per_mile Day_of_week\n",
      "2   2014-08-04   2.10        NaN           NaN      Monday\n",
      "9   2014-08-11   1.67  13.116667      7.854291      Monday\n",
      "17  2014-08-18   0.65        NaN           NaN      Monday\n",
      "25  2014-08-25   1.37   8.916667      6.508516      Monday\n",
      "26  2014-08-25   1.34        NaN           NaN      Monday\n",
      "33  2014-09-01    NaN        NaN           NaN      Monday\n",
      "40  2014-09-08   3.05  23.183333      7.601093      Monday\n",
      "47  2014-09-15    NaN        NaN           NaN      Monday\n",
      "54  2014-09-22    NaN        NaN           NaN      Monday\n",
      "62  2014-09-29   3.05  21.916667      7.185792      Monday\n",
      "71  2014-10-06    NaN        NaN           NaN      Monday\n",
      "78  2014-10-13    NaN        NaN           NaN      Monday\n",
      "87  2014-10-20   1.37   8.600000      6.277372      Monday\n",
      "94  2014-10-27    NaN        NaN           NaN      Monday\n",
      "101 2014-11-03   5.30  39.433333      7.440252      Monday\n",
      "110 2014-11-10   1.50   9.000000      6.000000      Monday\n",
      "111 2014-11-10   1.50  11.550000      7.700000      Monday\n",
      "112 2014-11-10   4.00        NaN           NaN      Monday\n",
      "119 2014-11-17    NaN        NaN           NaN      Monday\n",
      "126 2014-11-24    NaN        NaN           NaN      Monday\n",
      "133 2014-12-01    NaN        NaN           NaN      Monday\n",
      "140 2014-12-08    NaN        NaN           NaN      Monday\n",
      "148 2014-12-15   6.50  58.716667      9.033333      Monday\n",
      "155 2014-12-22   3.10  28.000000      9.032258      Monday\n",
      "162 2014-12-29    NaN        NaN           NaN      Monday\n",
      "Saturday\n",
      "          Date  Miles     Minutes  Min_per_mile Day_of_week\n",
      "0   2014-08-02   1.70         NaN           NaN    Saturday\n",
      "7   2014-08-09   2.50         NaN           NaN    Saturday\n",
      "15  2014-08-16   0.65         NaN           NaN    Saturday\n",
      "23  2014-08-23   1.34         NaN           NaN    Saturday\n",
      "31  2014-08-30    NaN         NaN           NaN    Saturday\n",
      "38  2014-09-06    NaN         NaN           NaN    Saturday\n",
      "45  2014-09-13    NaN         NaN           NaN    Saturday\n",
      "52  2014-09-20    NaN         NaN           NaN    Saturday\n",
      "59  2014-09-27    NaN         NaN           NaN    Saturday\n",
      "67  2014-10-04   4.63   40.000000      8.639309    Saturday\n",
      "68  2014-10-04   1.87         NaN           NaN    Saturday\n",
      "69  2014-10-04   4.08   33.000000      8.088235    Saturday\n",
      "76  2014-10-11    NaN         NaN           NaN    Saturday\n",
      "83  2014-10-18   1.50    9.666667      6.444444    Saturday\n",
      "84  2014-10-18   1.50         NaN           NaN    Saturday\n",
      "85  2014-10-18   1.37         NaN           NaN    Saturday\n",
      "92  2014-10-25   2.00         NaN           NaN    Saturday\n",
      "99  2014-11-01    NaN         NaN           NaN    Saturday\n",
      "108 2014-11-08    NaN         NaN           NaN    Saturday\n",
      "117 2014-11-15    NaN         NaN           NaN    Saturday\n",
      "124 2014-11-22    NaN         NaN           NaN    Saturday\n",
      "131 2014-11-29    NaN         NaN           NaN    Saturday\n",
      "138 2014-12-06    NaN         NaN           NaN    Saturday\n",
      "145 2014-12-13   5.30   43.600000      8.226415    Saturday\n",
      "146 2014-12-13   2.21   18.983333      8.589744    Saturday\n",
      "153 2014-12-20  14.80  135.000000      9.121622    Saturday\n",
      "160 2014-12-27    NaN         NaN           NaN    Saturday\n",
      "Sunday\n",
      "          Date  Miles    Minutes  Min_per_mile Day_of_week\n",
      "1   2014-08-03   1.40        NaN           NaN      Sunday\n",
      "8   2014-08-10   3.36  28.616667      8.516865      Sunday\n",
      "16  2014-08-17   1.34        NaN           NaN      Sunday\n",
      "24  2014-08-24   3.00        NaN           NaN      Sunday\n",
      "32  2014-08-31    NaN        NaN           NaN      Sunday\n",
      "39  2014-09-07    NaN        NaN           NaN      Sunday\n",
      "46  2014-09-14    NaN        NaN           NaN      Sunday\n",
      "53  2014-09-21   4.03  30.366667      7.535153      Sunday\n",
      "60  2014-09-28   1.50  11.300000      7.533333      Sunday\n",
      "61  2014-09-28   1.50  11.300000      7.533333      Sunday\n",
      "70  2014-10-05    NaN        NaN           NaN      Sunday\n",
      "77  2014-10-12   3.05  22.616667      7.415301      Sunday\n",
      "86  2014-10-19    NaN        NaN           NaN      Sunday\n",
      "93  2014-10-26    NaN        NaN           NaN      Sunday\n",
      "100 2014-11-02   1.37   8.716667      6.362530      Sunday\n",
      "109 2014-11-09   3.05  22.600000      7.409836      Sunday\n",
      "118 2014-11-16    NaN        NaN           NaN      Sunday\n",
      "125 2014-11-23   3.05  22.583333      7.404372      Sunday\n",
      "132 2014-11-30    NaN        NaN           NaN      Sunday\n",
      "139 2014-12-07    NaN        NaN           NaN      Sunday\n",
      "147 2014-12-14    NaN        NaN           NaN      Sunday\n",
      "154 2014-12-21    NaN        NaN           NaN      Sunday\n",
      "161 2014-12-28    NaN        NaN           NaN      Sunday\n",
      "Thursday\n",
      "          Date  Miles     Minutes  Min_per_mile Day_of_week\n",
      "5   2014-08-07   2.30         NaN           NaN    Thursday\n",
      "12  2014-08-14   0.90    6.266667      6.962963    Thursday\n",
      "13  2014-08-14   0.90    6.266667      6.962963    Thursday\n",
      "21  2014-08-21   1.37    9.400000      6.861314    Thursday\n",
      "29  2014-08-28    NaN         NaN           NaN    Thursday\n",
      "36  2014-09-04   3.05         NaN           NaN    Thursday\n",
      "43  2014-09-11    NaN         NaN           NaN    Thursday\n",
      "50  2014-09-18    NaN         NaN           NaN    Thursday\n",
      "57  2014-09-25    NaN         NaN           NaN    Thursday\n",
      "65  2014-10-02    NaN         NaN           NaN    Thursday\n",
      "74  2014-10-09    NaN         NaN           NaN    Thursday\n",
      "81  2014-10-16    NaN         NaN           NaN    Thursday\n",
      "90  2014-10-23    NaN         NaN           NaN    Thursday\n",
      "97  2014-10-30    NaN         NaN           NaN    Thursday\n",
      "104 2014-11-06    NaN         NaN           NaN    Thursday\n",
      "115 2014-11-13    NaN         NaN           NaN    Thursday\n",
      "122 2014-11-20    NaN         NaN           NaN    Thursday\n",
      "129 2014-11-27   1.00         NaN           NaN    Thursday\n",
      "136 2014-12-04    NaN         NaN           NaN    Thursday\n",
      "143 2014-12-11    NaN         NaN           NaN    Thursday\n",
      "151 2014-12-18    NaN         NaN           NaN    Thursday\n",
      "158 2014-12-25  14.80  140.000000      9.459459    Thursday\n",
      "165 2015-01-01  26.20  260.716667      9.951018    Thursday\n",
      "Tuesday\n",
      "          Date  Miles    Minutes  Min_per_mile Day_of_week\n",
      "3   2014-08-05    NaN        NaN           NaN     Tuesday\n",
      "10  2014-08-12   1.42  10.583333      7.453052     Tuesday\n",
      "18  2014-08-19   1.37        NaN           NaN     Tuesday\n",
      "19  2014-08-19   1.37        NaN           NaN     Tuesday\n",
      "27  2014-08-26   1.37  10.500000      7.664234     Tuesday\n",
      "34  2014-09-02   2.00        NaN           NaN     Tuesday\n",
      "41  2014-09-09    NaN        NaN           NaN     Tuesday\n",
      "48  2014-09-16   3.05  22.800000      7.475410     Tuesday\n",
      "55  2014-09-23    NaN        NaN           NaN     Tuesday\n",
      "63  2014-09-30    NaN        NaN           NaN     Tuesday\n",
      "72  2014-10-07    NaN        NaN           NaN     Tuesday\n",
      "79  2014-10-14   1.37   9.083333      6.630170     Tuesday\n",
      "88  2014-10-21    NaN        NaN           NaN     Tuesday\n",
      "95  2014-10-28    NaN        NaN           NaN     Tuesday\n",
      "102 2014-11-04   3.05  22.200000      7.278689     Tuesday\n",
      "113 2014-11-11    NaN        NaN           NaN     Tuesday\n",
      "120 2014-11-18    NaN        NaN           NaN     Tuesday\n",
      "127 2014-11-25    NaN        NaN           NaN     Tuesday\n",
      "134 2014-12-02    NaN        NaN           NaN     Tuesday\n",
      "141 2014-12-09   2.93  25.000000      8.532423     Tuesday\n",
      "149 2014-12-16    NaN        NaN           NaN     Tuesday\n",
      "156 2014-12-23   5.63  51.833333      9.206631     Tuesday\n",
      "163 2014-12-30   3.15  22.166667      7.037037     Tuesday\n",
      "Wednesday\n",
      "          Date  Miles    Minutes  Min_per_mile Day_of_week\n",
      "4   2014-08-06   2.38        NaN           NaN   Wednesday\n",
      "11  2014-08-13   2.35  17.416667      7.411348   Wednesday\n",
      "20  2014-08-20   1.37   9.550000      6.970803   Wednesday\n",
      "28  2014-08-27   2.50  25.000000     10.000000   Wednesday\n",
      "35  2014-09-03    NaN        NaN           NaN   Wednesday\n",
      "42  2014-09-10   1.37   8.950000      6.532847   Wednesday\n",
      "49  2014-09-17   1.50  11.100000      7.400000   Wednesday\n",
      "56  2014-09-24    NaN        NaN           NaN   Wednesday\n",
      "64  2014-10-01    NaN        NaN           NaN   Wednesday\n",
      "73  2014-10-08    NaN        NaN           NaN   Wednesday\n",
      "80  2014-10-15    NaN        NaN           NaN   Wednesday\n",
      "89  2014-10-22    NaN        NaN           NaN   Wednesday\n",
      "96  2014-10-29    NaN        NaN           NaN   Wednesday\n",
      "103 2014-11-05    NaN        NaN           NaN   Wednesday\n",
      "114 2014-11-12    NaN        NaN           NaN   Wednesday\n",
      "121 2014-11-19    NaN        NaN           NaN   Wednesday\n",
      "128 2014-11-26    NaN        NaN           NaN   Wednesday\n",
      "135 2014-12-03    NaN        NaN           NaN   Wednesday\n",
      "142 2014-12-10    NaN        NaN           NaN   Wednesday\n",
      "150 2014-12-17  12.00  99.000000      8.250000   Wednesday\n",
      "157 2014-12-24   3.05  25.133333      8.240437   Wednesday\n",
      "164 2014-12-31    NaN        NaN           NaN   Wednesday\n"
     ]
    }
   ],
   "source": [
    "for name, group in dows:\n",
    "    print(name)\n",
    "    print(group)"
   ]
  },
  {
   "cell_type": "markdown",
   "metadata": {},
   "source": [
    "you can get specific groups by using the get_group method."
   ]
  },
  {
   "cell_type": "code",
   "execution_count": 43,
   "metadata": {
    "collapsed": false
   },
   "outputs": [
    {
     "data": {
      "text/html": [
       "<div>\n",
       "<table border=\"1\" class=\"dataframe\">\n",
       "  <thead>\n",
       "    <tr style=\"text-align: right;\">\n",
       "      <th></th>\n",
       "      <th>Date</th>\n",
       "      <th>Miles</th>\n",
       "      <th>Min_per_mile</th>\n",
       "      <th>Minutes</th>\n",
       "    </tr>\n",
       "  </thead>\n",
       "  <tbody>\n",
       "    <tr>\n",
       "      <th>6</th>\n",
       "      <td>2014-08-08</td>\n",
       "      <td>3.40</td>\n",
       "      <td>NaN</td>\n",
       "      <td>NaN</td>\n",
       "    </tr>\n",
       "    <tr>\n",
       "      <th>14</th>\n",
       "      <td>2014-08-15</td>\n",
       "      <td>1.78</td>\n",
       "      <td>NaN</td>\n",
       "      <td>NaN</td>\n",
       "    </tr>\n",
       "    <tr>\n",
       "      <th>22</th>\n",
       "      <td>2014-08-22</td>\n",
       "      <td>1.37</td>\n",
       "      <td>6.630170</td>\n",
       "      <td>9.083333</td>\n",
       "    </tr>\n",
       "    <tr>\n",
       "      <th>30</th>\n",
       "      <td>2014-08-29</td>\n",
       "      <td>5.00</td>\n",
       "      <td>8.690000</td>\n",
       "      <td>43.450000</td>\n",
       "    </tr>\n",
       "    <tr>\n",
       "      <th>37</th>\n",
       "      <td>2014-09-05</td>\n",
       "      <td>3.05</td>\n",
       "      <td>7.814208</td>\n",
       "      <td>23.833333</td>\n",
       "    </tr>\n",
       "    <tr>\n",
       "      <th>44</th>\n",
       "      <td>2014-09-12</td>\n",
       "      <td>3.05</td>\n",
       "      <td>7.792350</td>\n",
       "      <td>23.766667</td>\n",
       "    </tr>\n",
       "    <tr>\n",
       "      <th>51</th>\n",
       "      <td>2014-09-19</td>\n",
       "      <td>1.37</td>\n",
       "      <td>7.116788</td>\n",
       "      <td>9.750000</td>\n",
       "    </tr>\n",
       "    <tr>\n",
       "      <th>58</th>\n",
       "      <td>2014-09-26</td>\n",
       "      <td>NaN</td>\n",
       "      <td>NaN</td>\n",
       "      <td>NaN</td>\n",
       "    </tr>\n",
       "    <tr>\n",
       "      <th>66</th>\n",
       "      <td>2014-10-03</td>\n",
       "      <td>NaN</td>\n",
       "      <td>NaN</td>\n",
       "      <td>NaN</td>\n",
       "    </tr>\n",
       "    <tr>\n",
       "      <th>75</th>\n",
       "      <td>2014-10-10</td>\n",
       "      <td>NaN</td>\n",
       "      <td>NaN</td>\n",
       "      <td>NaN</td>\n",
       "    </tr>\n",
       "    <tr>\n",
       "      <th>82</th>\n",
       "      <td>2014-10-17</td>\n",
       "      <td>NaN</td>\n",
       "      <td>NaN</td>\n",
       "      <td>NaN</td>\n",
       "    </tr>\n",
       "    <tr>\n",
       "      <th>91</th>\n",
       "      <td>2014-10-24</td>\n",
       "      <td>NaN</td>\n",
       "      <td>NaN</td>\n",
       "      <td>NaN</td>\n",
       "    </tr>\n",
       "    <tr>\n",
       "      <th>98</th>\n",
       "      <td>2014-10-31</td>\n",
       "      <td>2.01</td>\n",
       "      <td>NaN</td>\n",
       "      <td>NaN</td>\n",
       "    </tr>\n",
       "    <tr>\n",
       "      <th>105</th>\n",
       "      <td>2014-11-07</td>\n",
       "      <td>5.63</td>\n",
       "      <td>8.718176</td>\n",
       "      <td>49.083333</td>\n",
       "    </tr>\n",
       "    <tr>\n",
       "      <th>106</th>\n",
       "      <td>2014-11-07</td>\n",
       "      <td>1.26</td>\n",
       "      <td>NaN</td>\n",
       "      <td>NaN</td>\n",
       "    </tr>\n",
       "    <tr>\n",
       "      <th>107</th>\n",
       "      <td>2014-11-07</td>\n",
       "      <td>1.20</td>\n",
       "      <td>NaN</td>\n",
       "      <td>NaN</td>\n",
       "    </tr>\n",
       "    <tr>\n",
       "      <th>116</th>\n",
       "      <td>2014-11-14</td>\n",
       "      <td>NaN</td>\n",
       "      <td>NaN</td>\n",
       "      <td>NaN</td>\n",
       "    </tr>\n",
       "    <tr>\n",
       "      <th>123</th>\n",
       "      <td>2014-11-21</td>\n",
       "      <td>NaN</td>\n",
       "      <td>NaN</td>\n",
       "      <td>NaN</td>\n",
       "    </tr>\n",
       "    <tr>\n",
       "      <th>130</th>\n",
       "      <td>2014-11-28</td>\n",
       "      <td>3.00</td>\n",
       "      <td>NaN</td>\n",
       "      <td>NaN</td>\n",
       "    </tr>\n",
       "    <tr>\n",
       "      <th>137</th>\n",
       "      <td>2014-12-05</td>\n",
       "      <td>NaN</td>\n",
       "      <td>NaN</td>\n",
       "      <td>NaN</td>\n",
       "    </tr>\n",
       "    <tr>\n",
       "      <th>144</th>\n",
       "      <td>2014-12-12</td>\n",
       "      <td>1.37</td>\n",
       "      <td>6.751825</td>\n",
       "      <td>9.250000</td>\n",
       "    </tr>\n",
       "    <tr>\n",
       "      <th>152</th>\n",
       "      <td>2014-12-19</td>\n",
       "      <td>3.10</td>\n",
       "      <td>8.467742</td>\n",
       "      <td>26.250000</td>\n",
       "    </tr>\n",
       "    <tr>\n",
       "      <th>159</th>\n",
       "      <td>2014-12-26</td>\n",
       "      <td>5.20</td>\n",
       "      <td>NaN</td>\n",
       "      <td>NaN</td>\n",
       "    </tr>\n",
       "  </tbody>\n",
       "</table>\n",
       "</div>"
      ],
      "text/plain": [
       "          Date  Miles  Min_per_mile    Minutes\n",
       "6   2014-08-08   3.40           NaN        NaN\n",
       "14  2014-08-15   1.78           NaN        NaN\n",
       "22  2014-08-22   1.37      6.630170   9.083333\n",
       "30  2014-08-29   5.00      8.690000  43.450000\n",
       "37  2014-09-05   3.05      7.814208  23.833333\n",
       "44  2014-09-12   3.05      7.792350  23.766667\n",
       "51  2014-09-19   1.37      7.116788   9.750000\n",
       "58  2014-09-26    NaN           NaN        NaN\n",
       "66  2014-10-03    NaN           NaN        NaN\n",
       "75  2014-10-10    NaN           NaN        NaN\n",
       "82  2014-10-17    NaN           NaN        NaN\n",
       "91  2014-10-24    NaN           NaN        NaN\n",
       "98  2014-10-31   2.01           NaN        NaN\n",
       "105 2014-11-07   5.63      8.718176  49.083333\n",
       "106 2014-11-07   1.26           NaN        NaN\n",
       "107 2014-11-07   1.20           NaN        NaN\n",
       "116 2014-11-14    NaN           NaN        NaN\n",
       "123 2014-11-21    NaN           NaN        NaN\n",
       "130 2014-11-28   3.00           NaN        NaN\n",
       "137 2014-12-05    NaN           NaN        NaN\n",
       "144 2014-12-12   1.37      6.751825   9.250000\n",
       "152 2014-12-19   3.10      8.467742  26.250000\n",
       "159 2014-12-26   5.20           NaN        NaN"
      ]
     },
     "execution_count": 43,
     "metadata": {},
     "output_type": "execute_result"
    }
   ],
   "source": [
    "dows.get_group('Friday')"
   ]
  },
  {
   "cell_type": "markdown",
   "metadata": {},
   "source": [
    "We can use an aggregation command to perform an operation to get all the counts for each data frame."
   ]
  },
  {
   "cell_type": "code",
   "execution_count": 44,
   "metadata": {
    "collapsed": false
   },
   "outputs": [
    {
     "data": {
      "text/plain": [
       "Day_of_week\n",
       "Friday       23\n",
       "Monday       25\n",
       "Saturday     27\n",
       "Sunday       23\n",
       "Thursday     23\n",
       "Tuesday      23\n",
       "Wednesday    22\n",
       "Name: Miles, dtype: float64"
      ]
     },
     "execution_count": 44,
     "metadata": {},
     "output_type": "execute_result"
    }
   ],
   "source": [
    "dows.agg(lambda x: len(x))['Miles']"
   ]
  },
  {
   "cell_type": "markdown",
   "metadata": {},
   "source": [
    "another way to do this would be to add a count column to our data frame, then sum up each column"
   ]
  },
  {
   "cell_type": "code",
   "execution_count": 45,
   "metadata": {
    "collapsed": false
   },
   "outputs": [
    {
     "data": {
      "text/html": [
       "<div>\n",
       "<table border=\"1\" class=\"dataframe\">\n",
       "  <thead>\n",
       "    <tr style=\"text-align: right;\">\n",
       "      <th></th>\n",
       "      <th>Date</th>\n",
       "      <th>Miles</th>\n",
       "      <th>Minutes</th>\n",
       "      <th>Min_per_mile</th>\n",
       "      <th>Day_of_week</th>\n",
       "      <th>Count</th>\n",
       "    </tr>\n",
       "  </thead>\n",
       "  <tbody>\n",
       "    <tr>\n",
       "      <th>0</th>\n",
       "      <td>2014-08-02</td>\n",
       "      <td>1.70</td>\n",
       "      <td>NaN</td>\n",
       "      <td>NaN</td>\n",
       "      <td>Saturday</td>\n",
       "      <td>1</td>\n",
       "    </tr>\n",
       "    <tr>\n",
       "      <th>1</th>\n",
       "      <td>2014-08-03</td>\n",
       "      <td>1.40</td>\n",
       "      <td>NaN</td>\n",
       "      <td>NaN</td>\n",
       "      <td>Sunday</td>\n",
       "      <td>1</td>\n",
       "    </tr>\n",
       "    <tr>\n",
       "      <th>2</th>\n",
       "      <td>2014-08-04</td>\n",
       "      <td>2.10</td>\n",
       "      <td>NaN</td>\n",
       "      <td>NaN</td>\n",
       "      <td>Monday</td>\n",
       "      <td>1</td>\n",
       "    </tr>\n",
       "    <tr>\n",
       "      <th>3</th>\n",
       "      <td>2014-08-05</td>\n",
       "      <td>NaN</td>\n",
       "      <td>NaN</td>\n",
       "      <td>NaN</td>\n",
       "      <td>Tuesday</td>\n",
       "      <td>1</td>\n",
       "    </tr>\n",
       "    <tr>\n",
       "      <th>4</th>\n",
       "      <td>2014-08-06</td>\n",
       "      <td>2.38</td>\n",
       "      <td>NaN</td>\n",
       "      <td>NaN</td>\n",
       "      <td>Wednesday</td>\n",
       "      <td>1</td>\n",
       "    </tr>\n",
       "    <tr>\n",
       "      <th>5</th>\n",
       "      <td>2014-08-07</td>\n",
       "      <td>2.30</td>\n",
       "      <td>NaN</td>\n",
       "      <td>NaN</td>\n",
       "      <td>Thursday</td>\n",
       "      <td>1</td>\n",
       "    </tr>\n",
       "    <tr>\n",
       "      <th>6</th>\n",
       "      <td>2014-08-08</td>\n",
       "      <td>3.40</td>\n",
       "      <td>NaN</td>\n",
       "      <td>NaN</td>\n",
       "      <td>Friday</td>\n",
       "      <td>1</td>\n",
       "    </tr>\n",
       "    <tr>\n",
       "      <th>7</th>\n",
       "      <td>2014-08-09</td>\n",
       "      <td>2.50</td>\n",
       "      <td>NaN</td>\n",
       "      <td>NaN</td>\n",
       "      <td>Saturday</td>\n",
       "      <td>1</td>\n",
       "    </tr>\n",
       "    <tr>\n",
       "      <th>8</th>\n",
       "      <td>2014-08-10</td>\n",
       "      <td>3.36</td>\n",
       "      <td>28.616667</td>\n",
       "      <td>8.516865</td>\n",
       "      <td>Sunday</td>\n",
       "      <td>1</td>\n",
       "    </tr>\n",
       "    <tr>\n",
       "      <th>9</th>\n",
       "      <td>2014-08-11</td>\n",
       "      <td>1.67</td>\n",
       "      <td>13.116667</td>\n",
       "      <td>7.854291</td>\n",
       "      <td>Monday</td>\n",
       "      <td>1</td>\n",
       "    </tr>\n",
       "  </tbody>\n",
       "</table>\n",
       "</div>"
      ],
      "text/plain": [
       "        Date  Miles    Minutes  Min_per_mile Day_of_week  Count\n",
       "0 2014-08-02   1.70        NaN           NaN    Saturday      1\n",
       "1 2014-08-03   1.40        NaN           NaN      Sunday      1\n",
       "2 2014-08-04   2.10        NaN           NaN      Monday      1\n",
       "3 2014-08-05    NaN        NaN           NaN     Tuesday      1\n",
       "4 2014-08-06   2.38        NaN           NaN   Wednesday      1\n",
       "5 2014-08-07   2.30        NaN           NaN    Thursday      1\n",
       "6 2014-08-08   3.40        NaN           NaN      Friday      1\n",
       "7 2014-08-09   2.50        NaN           NaN    Saturday      1\n",
       "8 2014-08-10   3.36  28.616667      8.516865      Sunday      1\n",
       "9 2014-08-11   1.67  13.116667      7.854291      Monday      1"
      ]
     },
     "execution_count": 45,
     "metadata": {},
     "output_type": "execute_result"
    }
   ],
   "source": [
    "df['Count'] = 1\n",
    "df.head(10)"
   ]
  },
  {
   "cell_type": "code",
   "execution_count": 46,
   "metadata": {
    "collapsed": false
   },
   "outputs": [
    {
     "data": {
      "text/html": [
       "<div>\n",
       "<table border=\"1\" class=\"dataframe\">\n",
       "  <thead>\n",
       "    <tr style=\"text-align: right;\">\n",
       "      <th></th>\n",
       "      <th>Miles</th>\n",
       "      <th>Minutes</th>\n",
       "      <th>Min_per_mile</th>\n",
       "      <th>Count</th>\n",
       "    </tr>\n",
       "    <tr>\n",
       "      <th>Day_of_week</th>\n",
       "      <th></th>\n",
       "      <th></th>\n",
       "      <th></th>\n",
       "      <th></th>\n",
       "    </tr>\n",
       "  </thead>\n",
       "  <tbody>\n",
       "    <tr>\n",
       "      <th>Friday</th>\n",
       "      <td>41.79</td>\n",
       "      <td>194.466667</td>\n",
       "      <td>61.981259</td>\n",
       "      <td>23</td>\n",
       "    </tr>\n",
       "    <tr>\n",
       "      <th>Monday</th>\n",
       "      <td>36.50</td>\n",
       "      <td>222.433333</td>\n",
       "      <td>74.632908</td>\n",
       "      <td>25</td>\n",
       "    </tr>\n",
       "    <tr>\n",
       "      <th>Saturday</th>\n",
       "      <td>45.45</td>\n",
       "      <td>280.250000</td>\n",
       "      <td>49.109769</td>\n",
       "      <td>27</td>\n",
       "    </tr>\n",
       "    <tr>\n",
       "      <th>Sunday</th>\n",
       "      <td>26.65</td>\n",
       "      <td>158.100000</td>\n",
       "      <td>59.710723</td>\n",
       "      <td>23</td>\n",
       "    </tr>\n",
       "    <tr>\n",
       "      <th>Thursday</th>\n",
       "      <td>50.52</td>\n",
       "      <td>422.650000</td>\n",
       "      <td>40.197717</td>\n",
       "      <td>23</td>\n",
       "    </tr>\n",
       "    <tr>\n",
       "      <th>Tuesday</th>\n",
       "      <td>26.71</td>\n",
       "      <td>174.166667</td>\n",
       "      <td>61.277645</td>\n",
       "      <td>23</td>\n",
       "    </tr>\n",
       "    <tr>\n",
       "      <th>Wednesday</th>\n",
       "      <td>26.52</td>\n",
       "      <td>196.150000</td>\n",
       "      <td>54.805434</td>\n",
       "      <td>22</td>\n",
       "    </tr>\n",
       "  </tbody>\n",
       "</table>\n",
       "</div>"
      ],
      "text/plain": [
       "             Miles     Minutes  Min_per_mile  Count\n",
       "Day_of_week                                        \n",
       "Friday       41.79  194.466667     61.981259     23\n",
       "Monday       36.50  222.433333     74.632908     25\n",
       "Saturday     45.45  280.250000     49.109769     27\n",
       "Sunday       26.65  158.100000     59.710723     23\n",
       "Thursday     50.52  422.650000     40.197717     23\n",
       "Tuesday      26.71  174.166667     61.277645     23\n",
       "Wednesday    26.52  196.150000     54.805434     22"
      ]
     },
     "execution_count": 46,
     "metadata": {},
     "output_type": "execute_result"
    }
   ],
   "source": [
    "df.groupby('Day_of_week').sum()"
   ]
  },
  {
   "cell_type": "markdown",
   "metadata": {},
   "source": [
    "That about covers everything that I wanted to regarding pandas basics for grouping, filtering and that sort of thing. This is really the basics and likely a lot of what you'll be using on a regular basis. In the next section we will dive a bit deeper into more intensive analysis or more detailed function usage."
   ]
  },
  {
   "cell_type": "code",
   "execution_count": null,
   "metadata": {
    "collapsed": false
   },
   "outputs": [],
   "source": []
  }
 ],
 "metadata": {
  "kernelspec": {
   "display_name": "Python 2",
   "language": "python",
   "name": "python2"
  },
  "language_info": {
   "codemirror_mode": {
    "name": "ipython",
    "version": 2
   },
   "file_extension": ".py",
   "mimetype": "text/x-python",
   "name": "python",
   "nbconvert_exporter": "python",
   "pygments_lexer": "ipython2",
   "version": "2.7.11"
  }
 },
 "nbformat": 4,
 "nbformat_minor": 0
}
